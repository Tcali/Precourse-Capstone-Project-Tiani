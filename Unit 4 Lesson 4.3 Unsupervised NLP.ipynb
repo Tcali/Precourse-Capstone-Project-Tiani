{
 "cells": [
  {
   "cell_type": "code",
   "execution_count": 1,
   "metadata": {
    "run_control": {
     "frozen": false,
     "read_only": false
    }
   },
   "outputs": [],
   "source": [
    "import numpy as np\n",
    "import pandas as pd\n",
    "import scipy\n",
    "import matplotlib.pyplot as plt\n",
    "import seaborn as sns\n",
    "%matplotlib inline"
   ]
  },
  {
   "cell_type": "markdown",
   "metadata": {
    "run_control": {
     "frozen": false,
     "read_only": false
    }
   },
   "source": [
    "# Semantics\n",
    "\n",
    "With all the information we were able to pull out of the text, one thing we didn't really use was semantics- the *meaning* of the words and sentences.  Our supervised learning model 'knows' that Jane Austen tends to use the word 'lady' a lot in her writing, and it may know (if you included parts of speech as features) that 'lady' is a noun, but it doesn't know what a lady is.  There is nothing in our work on NLP so far that would allow a model to say whether 'queen' or 'car' is more similar to 'lady.' \n",
    "\n",
    "This severely limits the applicability of our NLP skills!  In the absence of semantic information, models can get tripped up on things like synonyms ('milady' and 'lady'). We could modify the spaCy dictionary to include 'lady' as the lemma of 'milady,' then use lemmas for all our analyses, but for this to be an effective approach we would have to go through our entire corpus and identify all synonyms for all words by hand. This approach would also discard subtle differences in the connotations of (words, concepts, ideas, or emotions associated with) 'lady' (elicits thoughts of formal manners and England) and 'milady' (elicits thoughts of medieval ages and Rennaissance Faires).  \n",
    "\n",
    "Basically, language is complicated, and trying to explicitly model all the information encoded in language is nearly impossibly complicated.  Fortunately, unsupervised modeling techniques, and particularly unsupervised neural networks, are perfect for this kind of task.  Rather than us 'telling' the model how language works and what each sentence means, we can feed the model a corpus of text and have it 'learn' the rules by identifying recurring patterns within the corpus.  Then we can use the trained unsupervised model to understand new sentences as well.  \n",
    "\n",
    "As with supervised NLP, unsupervised models are limited by their corpus- an unsupervised model trained on a medical database is unlikely to know that 'lady' and 'milady' are similar, just as a model trained on Jane Austen wouldn't catch that 'Ehler-Danlos Syndrome' and 'joint hypermobility' describe the same medical condition.  \n",
    "\n",
    "In this assignment, we are going to introduce Latent Semantic Analysis.  In the next, we will discuss unsupervised neural network applications for NLP.  \n",
    "\n",
    "# Converting sentences to vectors\n",
    "\n",
    "Consider the following sentences:\n",
    "\n",
    "1. \"The best Monty Python sketch is the one about the dead parrot,  I laughed so hard.\"\n",
    "2. \"I laugh when I think about Python's Ministry of Silly Walks sketch, it is funny, funny, funny, the best!\"\n",
    "3. \"Chocolate is the best ice cream dessert topping, with a great taste.\"\n",
    "4. \"The Lumberjack Song is the funniest Monty Python bit: I can't think of it without laughing.\"\n",
    "5. \"I would rather put strawberries on my ice cream for dessert, they have the best taste.\"\n",
    "6. \"The taste of caramel is a fantastic accompaniment to tasty mint ice cream.\"\n",
    "\n",
    "As a human being, it's easy to see that the sentences involve two topics, comedy and ice cream.   One way to represent the sentences is in a term-document matrix, with a column for each sentence and a row for each word.  Ignoring the stop words 'the', 'is','and', 'a', 'of,','I', and 'about,', discarding words that occur only once, and reducing words like 'laughing' to their root form ('laugh'), the term-document matrix for these sentences would be:\n",
    "\n",
    "|           | 1 | 2 | 3 | 4 | 5 | 6 |\n",
    "|-----------|---|---|---|---|---|---|\n",
    "| Monty     | 1 | 0 | 0 | 1 | 0 | 0 |\n",
    "| Python    | 1 | 1 | 0 | 1 | 0 | 0 |\n",
    "| sketch    | 1 | 1 | 0 | 0 | 0 | 0 |\n",
    "| laugh     | 1 | 1 | 0 | 1 | 0 | 0 |\n",
    "| funny     | 0 | 3 | 0 | 1 | 0 | 0 |\n",
    "| best      | 1 | 1 | 1 | 0 | 1 | 0 |\n",
    "| ice cream | 0 | 0 | 1 | 0 | 1 | 1 |\n",
    "| dessert   | 0 | 0 | 1 | 0 | 1 | 0 |\n",
    "| taste     | 0 | 0 | 1 | 0 | 1 | 2 |\n",
    "\n",
    "Note that we use the term 'document' to refer to the individual text chunks we are working with. It can sometimes mean sentences, sometimes paragraphs, and sometimes whole text files.  In our cases, each sentence is a document.  Also note that, contrary to how we usually operate, a term-document matrix has words as rows and documents as columns.\n",
    "\n",
    "The comedy sentences use the words: Python (3), laugh (3), Monty (2), sketch (2), funny (2), and best (2).\n",
    "The ice cream sentences use the words: ice cream (3), dessert (3), taste (3), and best (2).\n",
    "\n",
    "The word 'best' stands out here- it appears in more sentences than any other word (4 of 6).  It is used equally to describe Monty Python and ice cream.  If we were to use this term-document matrix as-is to teach a computer to parse sentences, 'best' would end up as a significant identifier for both topics, and every time we gave the model a new sentence to identify that included 'best,' it would bring up both topics.  Not very useful.  To avoid this, we want to weight the matrix so that words that occur in many different sentences have lower weights than words that occur in fewer sentences.  We do want to put a floor on this though-- words that only occur once are totally useless for finding associations between sentences.  \n",
    "\n",
    "Another word that stands out is 'funny', which appears more often in the comedy sentences than any other word.  This suggests that 'funny' is a very important word for defining the 'comedy' topic.  \n",
    "\n",
    "# Quantifying documents: Collection and document frequencies\n",
    "\n",
    "'Document frequency' counts how many sentences a word appears in.  'Collection frequency' counts how often a word appears, total, over all sentences.  Let's calculate the df and cf for our sentence set:\n",
    "\n",
    "|           |df |cf| \n",
    "|-----------|---|---|\n",
    "| Monty     | 2 | 2 | \n",
    "| Python    | 3 | 3 | \n",
    "| sketch    | 2 | 2 | \n",
    "| laugh     | 3 | 3 | \n",
    "| funny     | 2 | 4 | \n",
    "| best      | 4 | 4 | \n",
    "| ice cream | 3 | 3 | \n",
    "| dessert   | 2 | 2 | \n",
    "| taste     | 3 | 4 | \n",
    "\n",
    "# Penalizing Indiscriminate Words: Inverse Document Frequency\n",
    "\n",
    "Now let's weight the document frequency so that words that occur less often (like 'sketch' and 'dessert') are more influential than words that occur a lot (like 'best').  We will calculate the ratio of total documents (N) divided by df, then take the log (base 2) of the ratio, to get our inverse document frequency number (idf) for each term (t):\n",
    "\n",
    "$$idf_t=log \\dfrac N{df_t}$$\n",
    "\n",
    "\n",
    "|           |df |cf| idf |\n",
    "|-----------|---|---|\n",
    "| Monty     | 2 | 2 | 1.585 |\n",
    "| Python    | 3 | 3 | 1 |\n",
    "| sketch    | 2 | 2 | 1.585 |\n",
    "| laugh     | 3 | 3 | 1 |\n",
    "| funny     | 2 | 4 | 1.585 |\n",
    "| best      | 4 | 4 | .585 |\n",
    "| ice cream | 3 | 3 | 1 |\n",
    "| dessert   | 2 | 2 | 1.585 |\n",
    "| taste     | 3 | 4 | 1 |\n",
    "\n",
    "The idf weights tell the model to consider 'best' as less important than other terms.  \n",
    "\n",
    "# Term-frequency weights\n",
    "The next piece of information to consider for our weights is how frequently a term appears within a sentence.  The word 'funny' appears three times in one sentence- it would be good if we were able to weight 'funny' so that the model knows that. We can accomplish this by creating unique weights for each sentence that combine the term frequency (how often a word appears within an individual document) with the idf, like so:\n",
    "\n",
    "$$tf-idf_{t,d}=(tf_{t,d})(idf_t)$$\n",
    "\n",
    "Now the term 'funny' in sentence 2, where it occurs three times, will be weighted more heavily than the term 'funny' in sentence 1, where it only occurs once.  If 'best' had appeared multiple times in one sentence, it would also have a higher weight for that sentence, but the weight would be reduced by the idf term that takes into account that 'best' is a pretty common word in our collection of sentences.\n",
    "\n",
    "The tf_idf score will be highest for a term that occurs a lot within a small number of sentences, and lowest for a word that occurs in most or all sentences.  \n",
    "\n",
    "Now we can represent each sentence as a vector made up of the tf-idf scores for each word:\n",
    "\n",
    "|           | 1 | 2 | 3 | \n",
    "|-----------|---|---|---|\n",
    "| Monty     | 1.585 | 0 | 0 |\n",
    "| Python    | 1 | 1 | 0 | \n",
    "| sketch    | 1.585| 1.585 | 0 | \n",
    "| laugh     | 1 | 1 | 0 | \n",
    "| funny     | 0 | 4.755 | 0 | \n",
    "| best      | .585 | .585 | .585 | \n",
    "| ice cream | 0 | 0 | 1 | \n",
    "| dessert   | 0 | 0 | 1.585 | \n",
    "| taste     | 0 | 0 | 1 |\n",
    "\n",
    "\n",
    "\n",
    "## Drill: tf-idf scores\n",
    "\n",
    "Converting sentences into numeric vectors is fundamental for a lot of unsupervised NLP tasks.  To make sure you are solid on how these vectors work, please generate the vectors for the last three sentences.  If you are feeling uncertain, have your mentor walk you through it.\n",
    "\n",
    "(solution for 4, 5, and 6:\n",
    "\n",
    "4. 1.585, 1, 0, 1, 1.585, 0,0,0,0\n",
    "5. 0,0,0,0,0, .585, 1, 1.585, 1\n",
    "6. 0,0,0,0,0,0, 1, 0, 2)\n",
    "\n"
   ]
  },
  {
   "cell_type": "markdown",
   "metadata": {
    "run_control": {
     "frozen": false,
     "read_only": false
    }
   },
   "source": [
    "You can think of the tf-idf vectors as a 'translation' from human-readable language to computer-usable numeric form.  Some information is inevitably lost in translation, and the usefulness of any model we build from here on out depends on the decisions we made during the translation step.  Possible decision-points include:\n",
    "\n",
    "* Which stop words to include or exclude\n",
    "* Should we use phrases ('Monty Python' instead of 'Monty' and 'Python') as terms\n",
    "* The threshold for infrequent words: Here, we excluded words that only occurred once.  In longer documents, it may be a good idea to set a higher threshold.\n",
    "* How many terms to keep.  We kept all the terms that fit our criteria (not a stop word, occurred more than once), but for bigger document collections or longer documents, this may create unfeasibly long vectors.  We may want to decide to only keep the 10,000 words with the highest collection frequency scores, for example.\n",
    "\n",
    "# Vector Space Model\n",
    "\n",
    "Our vector representation of the text is referred to as a Vector Space Model.  We can use this representation to compute the similarity between our sentences and a new phrase or sentence- this method is often used by search engines to match a query to possible results.  \n",
    "\n",
    "By now, you've had some practice thinking of data as existing in multi-dimensional space.  Our sentences exist in an n-dimensional space where n is equal to the number of terms in our term-document matrix.  To compute the similarity of our sentences to a new sentence, we transform the new sentence into a vector and place it in the space.  We can then calculate how different the angles are for our original vectors and the new vector, and identify the vector whose angle is closest to the new vector.  Typically this is done by calculating the cosine of the angle between the vectors.  If the two vectors are identical, the angle between them will be 0° and the cosine will be 1.  If the two vectors are orthogonal, with an angle of 90°, the cosine will be 0.  \n",
    "\n",
    "If we were running a search query, then, we would return sentences that were most similar to the query sentence, ordered from the highest similarity score (cosine) to the lowest.  Pretty handy!\n",
    "\n",
    "# Latent Semantic Analysis\n",
    "\n",
    "Cool as this is, there are limitations to the VSM.  In particular, because it treats each word as distinct from every other word, it can run aground on *synonyms* (treating words that mean the same thing as though they are different, like big and large).  Also, because it treats all occurrences of a word as the same regardless of context, it can run aground on *polysemy*, where there are different meanings attached to the same word: 'I need a break' vs 'I break things.'  In addition, VSM has difficulty with very large documents because the more words a document has, the more opportunities it has to diverge from other documents in the space, making it difficult to see similarities.\n",
    "\n",
    "A solution to this problem is to reduce our tf-idf-weighted term-document matrix into a lower-dimensional space, that is, to express the information in the matrix using fewer rows by combining the information from multiple terms into one new row/dimension.  We do this using Principal Components Analysis, which you may recall from [an earlier assignment](https://courses.thinkful.com/data-201v1/assignment/2.1.6).  \n",
    "\n",
    "So Latent Semantic Analysis (also called Latent Semantic Indexing) is the process of applying PCA to a tf-idf term-document matrix.  What we get, in the end, is clusters of terms that presumably reflect a topic.  Each document will get a score for each topic, with higher scores indicating that the document is relevant to the topic.  Documents can pertain to more than one topic.\n",
    "\n",
    "LSA is handy when your corpus is too large to topically annotate by hand, or when you don't know what topics characterize your documents.  It is also useful as a way of creating features to be used in other models.\n",
    "\n",
    "Let's try it out!  Once again, we'll use the gutenberg corpus.   This time, we'll focus on comparing paragraphs within Emma by Jane Austen."
   ]
  },
  {
   "cell_type": "code",
   "execution_count": 4,
   "metadata": {},
   "outputs": [
    {
     "name": "stdout",
     "output_type": "stream",
     "text": [
      "[nltk_data] Downloading package punkt to\n",
      "[nltk_data]     C:\\Users\\Tiani\\AppData\\Roaming\\nltk_data...\n",
      "[nltk_data]   Unzipping tokenizers\\punkt.zip.\n"
     ]
    },
    {
     "data": {
      "text/plain": [
       "True"
      ]
     },
     "execution_count": 4,
     "metadata": {},
     "output_type": "execute_result"
    }
   ],
   "source": [
    "import nltk\n",
    "from nltk.corpus import gutenberg\n",
    "nltk.download('punkt')"
   ]
  },
  {
   "cell_type": "code",
   "execution_count": 5,
   "metadata": {
    "run_control": {
     "frozen": false,
     "read_only": false
    }
   },
   "outputs": [
    {
     "name": "stdout",
     "output_type": "stream",
     "text": [
      "['[ Emma by Jane Austen 1816 ]', 'VOLUME I', 'CHAPTER I', 'Emma Woodhouse , handsome , clever , and rich , with a comfortable home and happy disposition , seemed to unite some of the best blessings of existence ; and had lived nearly twenty - one years in the world with very little to distress or vex her .']\n"
     ]
    }
   ],
   "source": [
    "import re\n",
    "from sklearn.model_selection import train_test_split\n",
    "\n",
    "# reading in the data, this time in the form of paragraphs\n",
    "emma = gutenberg.paras('austen-emma.txt')\n",
    "# processing\n",
    "emma_paras = []\n",
    "for paragraph in emma:\n",
    "    para = paragraph[0]\n",
    "    # removing the double-dash from all words\n",
    "    para = [re.sub(r'--', '', word) for word in para]\n",
    "    # Forming each paragraph into a string and adding it to the list of strings.\n",
    "    emma_paras.append(' '.join(para))\n",
    "\n",
    "print(emma_paras[0:4])"
   ]
  },
  {
   "cell_type": "markdown",
   "metadata": {
    "run_control": {
     "frozen": false,
     "read_only": false
    }
   },
   "source": [
    "# tfidf in sklearn\n",
    "\n",
    "Happily for us, sklearn has a tfidf function that will do all our heavy lifting.  It also has a [very long list of stop words](https://github.com/scikit-learn/scikit-learn/blob/master/sklearn/feature_extraction/stop_words.py).  Since we're going to be doing dimension reduction later on anyway, let's keep all the words for now."
   ]
  },
  {
   "cell_type": "code",
   "execution_count": 6,
   "metadata": {
    "run_control": {
     "frozen": false,
     "read_only": false
    },
    "scrolled": false
   },
   "outputs": [
    {
     "name": "stdout",
     "output_type": "stream",
     "text": [
      "Number of features: 1948\n",
      "Original sentence: A very few minutes more , however , completed the present trial .\n",
      "Tf_idf vector: {'minutes': 0.7127450310382584, 'present': 0.701423210857947}\n"
     ]
    }
   ],
   "source": [
    "from sklearn.feature_extraction.text import TfidfVectorizer\n",
    "\n",
    "X_train, X_test = train_test_split(emma_paras, test_size=0.4, random_state=0)\n",
    "\n",
    "vectorizer = TfidfVectorizer(max_df=0.5, # drop words that occur in more than half the paragraphs\n",
    "                             min_df=2, # only use words that appear at least twice\n",
    "                             stop_words='english', \n",
    "                             lowercase=True, #convert everything to lower case (since Alice in Wonderland has the HABIT of CAPITALIZING WORDS for EMPHASIS)\n",
    "                             use_idf=True,#we definitely want to use inverse document frequencies in our weighting\n",
    "                             norm=u'l2', #Applies a correction factor so that longer paragraphs and shorter paragraphs get treated equally\n",
    "                             smooth_idf=True #Adds 1 to all document frequencies, as if an extra document existed that used every word once.  Prevents divide-by-zero errors\n",
    "                            )\n",
    "\n",
    "\n",
    "#Applying the vectorizer\n",
    "emma_paras_tfidf=vectorizer.fit_transform(emma_paras)\n",
    "print(\"Number of features: %d\" % emma_paras_tfidf.get_shape()[1])\n",
    "\n",
    "#splitting into training and test sets\n",
    "X_train_tfidf, X_test_tfidf= train_test_split(emma_paras_tfidf, test_size=0.4, random_state=0)\n",
    "\n",
    "\n",
    "#Reshapes the vectorizer output into something people can read\n",
    "X_train_tfidf_csr = X_train_tfidf.tocsr()\n",
    "\n",
    "#number of paragraphs\n",
    "n = X_train_tfidf_csr.shape[0]\n",
    "#A list of dictionaries, one per paragraph\n",
    "tfidf_bypara = [{} for _ in range(0,n)]\n",
    "#List of features\n",
    "terms = vectorizer.get_feature_names()\n",
    "#for each paragraph, lists the feature words and their tf-idf scores\n",
    "for i, j in zip(*X_train_tfidf_csr.nonzero()):\n",
    "    tfidf_bypara[i][terms[j]] = X_train_tfidf_csr[i, j]\n",
    "\n",
    "#Keep in mind that the log base 2 of 1 is 0, so a tf-idf score of 0 indicates that the word was present once in that sentence.\n",
    "print('Original sentence:', X_train[5])\n",
    "print('Tf_idf vector:', tfidf_bypara[5])"
   ]
  },
  {
   "cell_type": "markdown",
   "metadata": {
    "run_control": {
     "frozen": false,
     "read_only": false
    }
   },
   "source": [
    "# Dimension reduction\n",
    "Okay, now we have our vectors, with one vector per paragraph.  It's time to do some dimension reduction.  We use the Singular Value Decomposition (SVD) function from sklearn rather than PCA because we don't want to mean-center our variables (and thus lose sparsity):"
   ]
  },
  {
   "cell_type": "code",
   "execution_count": 7,
   "metadata": {
    "run_control": {
     "frozen": false,
     "read_only": false
    },
    "scrolled": false
   },
   "outputs": [
    {
     "name": "stdout",
     "output_type": "stream",
     "text": [
      "Percent variance captured by all components: 45.18911628199338\n",
      "Component 0:\n",
      "\" Oh !    0.999288\n",
      "\" Oh !    0.999288\n",
      "\" Oh !    0.999288\n",
      "\" Oh !    0.999288\n",
      "\" Oh !    0.999288\n",
      "\" Oh !    0.999288\n",
      "\" Oh !    0.999288\n",
      "\" Oh !    0.999288\n",
      "\" Oh !    0.999288\n",
      "\" Oh !    0.999288\n",
      "Name: 0, dtype: float64\n",
      "Component 1:\n",
      "\" You have made her too tall , Emma ,\" said Mr . Knightley .                                                                                                                0.634546\n",
      "\" You get upon delicate subjects , Emma ,\" said Mrs . Weston smiling ; \" remember that I am here . Mr .                                                                     0.579763\n",
      "\" I do not know what your opinion may be , Mrs . Weston ,\" said Mr . Knightley , \" of this great intimacy between Emma and Harriet Smith , but I think it a bad thing .\"    0.564858\n",
      "\" You are right , Mrs . Weston ,\" said Mr . Knightley warmly , \" Miss Fairfax is as capable as any of us of forming a just opinion of Mrs . Elton .                         0.561640\n",
      "\" There were misunderstandings between them , Emma ; he said so expressly .                                                                                                 0.528306\n",
      "Mr . Knightley might quarrel with her , but Emma could not quarrel with herself .                                                                                           0.526384\n",
      "\" Now ,\" said Emma , when they were fairly beyond the sweep gates , \" now Mr . Weston , do let me know what has happened .\"                                                 0.521790\n",
      "\" In one respect , perhaps , Mr . Elton ' s manners are superior to Mr . Knightley ' s or Mr . Weston ' s .                                                                 0.510026\n",
      "Emma found that it was not Mr . Weston ' s fault that the number of privy councillors was not yet larger .                                                                  0.504995\n",
      "\" I do not admire it ,\" said Mr . Knightley .                                                                                                                               0.499234\n",
      "Name: 1, dtype: float64\n",
      "Component 2:\n",
      "CHAPTER V       0.998674\n",
      "CHAPTER I       0.998674\n",
      "CHAPTER V       0.998674\n",
      "CHAPTER X       0.998674\n",
      "CHAPTER X       0.998674\n",
      "CHAPTER I       0.998674\n",
      "CHAPTER V       0.998674\n",
      "CHAPTER X       0.998674\n",
      "CHAPTER I       0.998674\n",
      "CHAPTER XVII    0.997625\n",
      "Name: 2, dtype: float64\n",
      "Component 3:\n",
      "\" Ah !      0.992924\n",
      "\" Ah !      0.992924\n",
      "\" Ah !      0.992924\n",
      "\" Ah !      0.992924\n",
      "\" Ah !\"     0.992924\n",
      "But ah !    0.992924\n",
      "\" Ah !      0.992924\n",
      "\" Ah !      0.992924\n",
      "\" Ah !      0.992924\n",
      "\" Ah !      0.992924\n",
      "Name: 3, dtype: float64\n",
      "Component 4:\n",
      "\" There were misunderstandings between them , Emma ; he said so expressly .    0.650533\n",
      "Emma demurred .                                                                0.598205\n",
      "\" Are you well , my Emma ?\"                                                    0.598205\n",
      "Emma was silenced .                                                            0.586447\n",
      "At first it was downright dulness to Emma .                                    0.585283\n",
      "\" Emma , my dear Emma \"                                                        0.576934\n",
      "\" It is not now worth a regret ,\" said Emma .                                  0.570346\n",
      "Emma could not resist .                                                        0.564375\n",
      "\" For shame , Emma !                                                           0.544135\n",
      "\" I am ready ,\" said Emma , \" whenever I am wanted .\"                          0.501560\n",
      "Name: 4, dtype: float64\n"
     ]
    }
   ],
   "source": [
    "from sklearn.decomposition import TruncatedSVD\n",
    "from sklearn.pipeline import make_pipeline\n",
    "from sklearn.preprocessing import Normalizer\n",
    "\n",
    "#Our SVD data reducer.  We are going to reduce the feature space from 1379 to 130.\n",
    "svd= TruncatedSVD(130)\n",
    "lsa = make_pipeline(svd, Normalizer(copy=False))\n",
    "# Run SVD on the training data, then project the training data.\n",
    "X_train_lsa = lsa.fit_transform(X_train_tfidf)\n",
    "\n",
    "variance_explained=svd.explained_variance_ratio_\n",
    "total_variance = variance_explained.sum()\n",
    "print(\"Percent variance captured by all components:\",total_variance*100)\n",
    "\n",
    "#Looking at what sorts of paragraphs our solution considers similar, for the first five identified topics\n",
    "paras_by_component=pd.DataFrame(X_train_lsa,index=X_train)\n",
    "for i in range(5):\n",
    "    print('Component {}:'.format(i))\n",
    "    print(paras_by_component.loc[:,i].sort_values(ascending=False)[0:10])"
   ]
  },
  {
   "cell_type": "markdown",
   "metadata": {
    "run_control": {
     "frozen": false,
     "read_only": false
    }
   },
   "source": [
    "From gazing at the most representative sample paragraphs, it appears that component 0 targets the exclamation 'Oh!', component 1 seems to largely involve critical dialogue directed at or about the main character Emma, component 2 is chapter headings, component 3 is exclamations involving 'Ah!, and component 4 involves actions by or directly related to Emma.\n",
    "\n",
    "What fun! \n",
    "\n",
    "# Sentence similarity\n",
    "\n",
    "We can also look at how similar various sentences are to one another.  For example, here are the similarity scores (as a heatmap) of the first 10 sentences in the training set:\n"
   ]
  },
  {
   "cell_type": "code",
   "execution_count": 8,
   "metadata": {
    "run_control": {
     "frozen": false,
     "read_only": false
    }
   },
   "outputs": [
    {
     "data": {
      "image/png": "[encoded data removed]",
      "text/plain": [
       "<Figure size 432x288 with 2 Axes>"
      ]
     },
     "metadata": {},
     "output_type": "display_data"
    },
    {
     "name": "stdout",
     "output_type": "stream",
     "text": [
      "Key:\n",
      "0 That is _court_ .\n",
      "1 \" Yes , sir , I did indeed ; and I am very much obliged by your kind solicitude about me .\"\n",
      "2 \" How much his business engrosses him already is very plain from the circumstance of his forgetting to inquire for the book you recommended .\n",
      "3 To restrain him as much as might be , by her own manners , she was immediately preparing to speak with exquisite calmness and gravity of the weather and the night ; but scarcely had she begun , scarcely had they passed the sweep - gate and joined the other carriage , than she found her subject cut up  her hand seized  her attention demanded , and Mr . Elton actually making violent love to her : availing himself of the precious opportunity , declaring sentiments which must be already well known , hoping  fearing  adoring  ready to die if she refused him ; but flattering himself that his ardent attachment and unequalled love and unexampled passion could not fail of having some effect , and in short , very much resolved on being seriously accepted as soon as possible .\n",
      "4 Emma smiled and answered \" My visit was of use to the nervous part of her complaint , I hope ; but not even I can charm away a sore throat ; it is a most severe cold indeed .\n",
      "5 A very few minutes more , however , completed the present trial .\n",
      "6 \" I am delighted to hear you speak so stoutly on the subject ,\" replied Emma , smiling ; \" but you do not mean to deny that there was a time  and not very distant either  when you gave me reason to understand that you did care about him ?\"\n",
      "7 \" Very well ; and if he had intended to give her one , he would have told her so .\"\n",
      "8 Some laughed , and answered good - humouredly .\n",
      "9 \" There appeared such a perfectly good understanding among them all \" he began rather quickly , but checking himself , added , \" however , it is impossible for me to say on what terms they really were  how it might all be behind the scenes .\n"
     ]
    }
   ],
   "source": [
    "# Compute document similarity using LSA components\n",
    "similarity = np.asarray(np.asmatrix(X_train_lsa) * np.asmatrix(X_train_lsa).T)\n",
    "#Only taking the first 10 sentences\n",
    "sim_matrix=pd.DataFrame(similarity,index=X_train).iloc[0:10,0:10]\n",
    "#Making a plot\n",
    "ax = sns.heatmap(sim_matrix,yticklabels=range(10))\n",
    "plt.show()\n",
    "\n",
    "#Generating a key for the plot.\n",
    "print('Key:')\n",
    "for i in range(10):\n",
    "    print(i,sim_matrix.index[i])\n"
   ]
  },
  {
   "cell_type": "markdown",
   "metadata": {
    "run_control": {
     "frozen": false,
     "read_only": false
    }
   },
   "source": [
    "Not much similarity at all except between sentences 8 and 9, both of which seem to describe people getting along well.\n",
    "\n",
    "# Drill 0: Test set\n",
    "\n",
    "Now it's your turn: Apply our LSA model to the test set.  Does it identify similar sentences for components 0 through 4?  "
   ]
  },
  {
   "cell_type": "code",
   "execution_count": 9,
   "metadata": {
    "run_control": {
     "frozen": false,
     "read_only": false
    }
   },
   "outputs": [
    {
     "name": "stdout",
     "output_type": "stream",
     "text": [
      "Original sentence: \" And I am quite serious too , I assure you ,\" replied Mrs . Elton gaily , \" in resolving to be always on the watch , and employing my friends to watch also , that nothing really unexceptionable may pass us .\"\n",
      "Tf_idf vector: {'resolving': 0.3424390305045805, 'unexceptionable': 0.3196409792117937, 'assure': 0.267729777836069, 'friends': 0.2515333740641343, 'quite': 0.1916471918420347, 'replied': 0.20315405638674577, 'watch': 0.62300800500314, 'elton': 0.16874782424809767, 'pass': 0.28445227585106625, 'really': 0.21963852817625326, 'mrs': 0.14780961753993585}\n"
     ]
    }
   ],
   "source": [
    "# Remember, you will use the same model, only with the test set data.  Don't fit a new model by mistake!\n",
    "#Reshapes the vectorizer output into something people can read\n",
    "X_test_tfidf_csr = X_test_tfidf.tocsr()\n",
    "\n",
    "#number of paragraphs\n",
    "n = X_test_tfidf_csr.shape[0]\n",
    "#A list of dictionaries, one per paragraph\n",
    "tfidf_bypara = [{} for _ in range(0,n)]\n",
    "#List of features\n",
    "terms = vectorizer.get_feature_names()\n",
    "#for each paragraph, lists the feature words and their tf-idf scores\n",
    "for i, j in zip(*X_test_tfidf_csr.nonzero()):\n",
    "    tfidf_bypara[i][terms[j]] = X_test_tfidf_csr[i, j]\n",
    "\n",
    "#Keep in mind that the log base 2 of 1 is 0, so a tf-idf score of 0 indicates that the word was present once in that sentence.\n",
    "print('Original sentence:', X_test[5])\n",
    "print('Tf_idf vector:', tfidf_bypara[5])"
   ]
  },
  {
   "cell_type": "code",
   "execution_count": 10,
   "metadata": {},
   "outputs": [
    {
     "name": "stdout",
     "output_type": "stream",
     "text": [
      "Percent variance captured by all components: 49.361330235728396\n",
      "Component 0:\n",
      "\" Oh !         0.99992\n",
      "\" Oh !         0.99992\n",
      "\" Oh !         0.99992\n",
      "\" Oh !         0.99992\n",
      "\" Oh !\"        0.99992\n",
      "\" Oh !         0.99992\n",
      "\" Oh !         0.99992\n",
      "\" Oh !         0.99992\n",
      "\" Me ! oh !    0.99992\n",
      "\" Oh !         0.99992\n",
      "Name: 0, dtype: float64\n",
      "Component 1:\n",
      "\" Well , Mrs . Weston ,\" said Emma triumphantly when he left them , \" what do you say now to Mr . Knightley ' s marrying Jane Fairfax ?\"                                                                                                                                                                                                                                                                                                             0.617497\n",
      "After tea , Mr . and Mrs . Weston , and Mr . Elton sat down with Mr . Woodhouse to cards .                                                                                                                                                                                                                                                                                                                                                           0.598481\n",
      "Frank turned instantly to Emma , to claim her former promise ; and boasted himself an engaged man , which his father looked his most perfect approbation of  and it then appeared that Mrs . Weston was wanting _him_ to dance with Mrs . Elton himself , and that their business was to help to persuade him into it , which was done pretty soon . Mr . Weston and Mrs . Elton led the way , Mr . Frank Churchill and Miss Woodhouse followed .    0.568551\n",
      "\" Mr .                                                                                                                                                                                                                                                                                                                                                                                                                                               0.518417\n",
      "While she was gone , Mr . Knightley called , and sat some time with Mr . Woodhouse and Emma , till Mr . Woodhouse , who had previously made up his mind to walk out , was persuaded by his daughter not to defer it , and was induced by the entreaties of both , though against the scruples of his own civility , to leave Mr . Knightley for that purpose .                                                                                       0.509641\n",
      "Mr . Weston was musing .                                                                                                                                                                                                                                                                                                                                                                                                                             0.505779\n",
      "\" Mrs . Weston ' s manners ,\" said Emma , \" were always particularly good .                                                                                                                                                                                                                                                                                                                                                                          0.493683\n",
      "\" I think , indeed ,\" said John Knightley pleasantly , \" that Mr . Weston has some little claim .                                                                                                                                                                                                                                                                                                                                                    0.491266\n",
      "\" Why , to be sure ,\" said Mr . Woodhouse \" yes , certainly  I cannot deny that Mrs . Weston , poor Mrs . Weston , does come and see us pretty often  but then  she is always obliged to go away again .\"                                                                                                                                                                                                                                            0.487118\n",
      "\" It is Frank and Miss Fairfax ,\" said Mrs . Weston .                                                                                                                                                                                                                                                                                                                                                                                                0.485045\n",
      "Name: 1, dtype: float64\n",
      "Component 2:\n",
      "\" Ah !     0.996961\n",
      "\" Ah !     0.996961\n",
      "\" Ah !     0.996961\n",
      "\" Ah !\"    0.996961\n",
      "\" Ah !\"    0.996961\n",
      "\" Ah !     0.996961\n",
      "\" Ah !     0.996961\n",
      "\" Ah !     0.996961\n",
      "\" Ah !     0.996961\n",
      "\" Ah !     0.996961\n",
      "Name: 2, dtype: float64\n",
      "Component 3:\n",
      "\" Mr .                                                                                                                                                                                                                                                                                                                                                            0.632584\n",
      "After tea , Mr . and Mrs . Weston , and Mr . Elton sat down with Mr . Woodhouse to cards .                                                                                                                                                                                                                                                                        0.562727\n",
      "Mr . Knightley was thoughtful again .                                                                                                                                                                                                                                                                                                                             0.524415\n",
      "\" You are not vain , Mr . Knightley .                                                                                                                                                                                                                                                                                                                             0.506145\n",
      "Mr . Weston was musing .                                                                                                                                                                                                                                                                                                                                          0.500382\n",
      "Mr . Weston ' s own happiness was indisputable .                                                                                                                                                                                                                                                                                                                  0.457798\n",
      "She meant to be very happy , in spite of the scene being laid at Mr . Cole ' s ; and without being able to forget that among the failings of Mr . Elton , even in the days of his favour , none had disturbed her more than his propensity to dine with Mr . Cole .                                                                                               0.422395\n",
      "Harriet , Mr . Elton , and Mr . Knightley , their own especial set , were the only persons invited to meet them ; the hours were to be early , as well as the numbers few ; Mr . Woodhouse ' s habits and inclination being consulted in every thing .                                                                                                            0.403995\n",
      "\" Christmas weather ,\" observed Mr . Elton .                                                                                                                                                                                                                                                                                                                      0.392174\n",
      "While she was gone , Mr . Knightley called , and sat some time with Mr . Woodhouse and Emma , till Mr . Woodhouse , who had previously made up his mind to walk out , was persuaded by his daughter not to defer it , and was induced by the entreaties of both , though against the scruples of his own civility , to leave Mr . Knightley for that purpose .    0.388635\n",
      "Name: 3, dtype: float64\n",
      "Component 4:\n",
      "\" Yes .                                                                         0.653281\n",
      "\" Yes , do .\"                                                                   0.653281\n",
      "\" Yes , sometimes he can .\"                                                     0.653281\n",
      "\" Yes I should , I am sure I should .                                           0.639077\n",
      "\" Yes , so I imagined .                                                         0.609553\n",
      "\" Yes  a good deal _nearer_ .\"                                                  0.563286\n",
      "\" Yes , our good Mrs . Elton .                                                  0.553318\n",
      "\" Yes ; but we must not rest our claims on that distinction .                   0.538162\n",
      "\" Yes , she would be , but that she thinks there will be another put - off .    0.536107\n",
      "\" Yes , very soon .                                                             0.533160\n",
      "Name: 4, dtype: float64\n"
     ]
    }
   ],
   "source": [
    "#Our SVD data reducer.  We are going to reduce the feature space from 1379 to 130.\n",
    "svd= TruncatedSVD(130)\n",
    "lsa = make_pipeline(svd, Normalizer(copy=False))\n",
    "# Run SVD on the test data, then project the test data.\n",
    "X_test_lsa = lsa.fit_transform(X_test_tfidf)\n",
    "\n",
    "variance_explained=svd.explained_variance_ratio_\n",
    "total_variance = variance_explained.sum()\n",
    "print(\"Percent variance captured by all components:\",total_variance*100)\n",
    "\n",
    "#Looking at what sorts of paragraphs our solution considers similar, for the first five identified topics\n",
    "paras_by_component=pd.DataFrame(X_test_lsa,index=X_test)\n",
    "for i in range(5):\n",
    "    print('Component {}:'.format(i))\n",
    "    print(paras_by_component.loc[:,i].sort_values(ascending=False)[0:10])"
   ]
  },
  {
   "cell_type": "markdown",
   "metadata": {},
   "source": [
    "Component 0: \"Oh!\", component 1 is about Mr. Weston, component 2 is exclamations involving 'Ah!, component 3 is about different people, and component 4 involves \"yes\" statements"
   ]
  },
  {
   "cell_type": "code",
   "execution_count": 11,
   "metadata": {},
   "outputs": [
    {
     "data": {
      "image/png": "[encoded data removed]",
      "text/plain": [
       "<Figure size 432x288 with 2 Axes>"
      ]
     },
     "metadata": {},
     "output_type": "display_data"
    },
    {
     "name": "stdout",
     "output_type": "stream",
     "text": [
      "Key:\n",
      "0 Mr . Woodhouse had so completely made up his mind to the visit , that in spite of the increasing coldness , he seemed to have no idea of shrinking from it , and set forward at last most punctually with his eldest daughter in his own carriage , with less apparent consciousness of the weather than either of the others ; too full of the wonder of his own going , and the pleasure it was to afford at Randalls to see that it was cold , and too well wrapt up to feel it .\n",
      "1 \" Oh !\n",
      "2 \" Oh no , no !\n",
      "3 Such was Jane Fairfax ' s history .\n",
      "4 \" That has been a good deal the case , my dear ; but not to the degree you mention .\n",
      "5 \" And I am quite serious too , I assure you ,\" replied Mrs . Elton gaily , \" in resolving to be always on the watch , and employing my friends to watch also , that nothing really unexceptionable may pass us .\"\n",
      "6 \" And here is Mrs . Weston and Mr . Frank Churchill too ! Quite delightful ; so many friends !\"\n",
      "7 \" You may well class the delight , the honour , and the comfort of such a situation together ,\" said Jane , \" they are pretty sure to be equal ; however , I am very serious in not wishing any thing to be attempted at present for me .\n",
      "8 Harriet , Mr . Elton , and Mr . Knightley , their own especial set , were the only persons invited to meet them ; the hours were to be early , as well as the numbers few ; Mr . Woodhouse ' s habits and inclination being consulted in every thing .\n",
      "9 \" Oh !\n"
     ]
    }
   ],
   "source": [
    "# Compute document similarity using LSA components\n",
    "similarity = np.asarray(np.asmatrix(X_test_lsa) * np.asmatrix(X_test_lsa).T)\n",
    "#Only taking the first 10 sentences\n",
    "sim_matrix=pd.DataFrame(similarity,index=X_test).iloc[0:10,0:10]\n",
    "#Making a plot\n",
    "ax = sns.heatmap(sim_matrix,yticklabels=range(10))\n",
    "plt.show()\n",
    "\n",
    "#Generating a key for the plot.\n",
    "print('Key:')\n",
    "for i in range(10):\n",
    "    print(i,sim_matrix.index[i])"
   ]
  },
  {
   "cell_type": "markdown",
   "metadata": {},
   "source": [
    "1, 2, and 9 all are related b/c of the \"Oh!\" statements. 5 and 6 are related bc they both have the word \"friend\" in them"
   ]
  },
  {
   "cell_type": "markdown",
   "metadata": {
    "run_control": {
     "frozen": false,
     "read_only": false
    }
   },
   "source": [
    "# Drill 1: Tweaking tf-idf\n",
    "\n",
    "Go back up to the code where we originally translated the text from words to numbers.  There are a lot of decision-points here, from the stop list to the thresholds for inclusion and exclusion, and many others as well.  We also didn't integrate spaCy, and so don't have info on lemmas or Named Entities.  Change things up a few times and see how that affects the results of the LSA.  Write up your observations and share them with your mentor."
   ]
  },
  {
   "cell_type": "code",
   "execution_count": 12,
   "metadata": {
    "run_control": {
     "frozen": false,
     "read_only": false
    }
   },
   "outputs": [
    {
     "name": "stdout",
     "output_type": "stream",
     "text": [
      "Percent variance captured by all components: 35.58998190936054\n",
      "Component 0:\n",
      "\" Oh !     0.999315\n",
      "\" Oh !     0.999315\n",
      "\" Oh !     0.999315\n",
      "\" Oh !     0.999315\n",
      "\" Oh !     0.999315\n",
      "\" Oh !\"    0.999315\n",
      "\" Oh !     0.999315\n",
      "\" Oh !     0.999315\n",
      "\" Oh !     0.999315\n",
      "\" Oh !     0.999315\n",
      "\" Oh !     0.999315\n",
      "\" Oh !     0.999315\n",
      "\" Oh !     0.999315\n",
      "\" Oh !     0.999315\n",
      "\" Oh !     0.999315\n",
      "\" Oh !     0.999315\n",
      "\" Oh !     0.999315\n",
      "\" Oh !     0.999315\n",
      "\" Oh !     0.999315\n",
      "\" Oh !\"    0.999315\n",
      "Name: 0, dtype: float64\n",
      "Component 1:\n",
      "\" You get upon delicate subjects , Emma ,\" said Mrs . Weston smiling ; \" remember that I am here . Mr .                                                                                                                                                                                                                                                                                                                                                                                                                                                                                                                                                                                                                                                                                                                                                                                                                                          0.646240\n",
      "\" You have made her too tall , Emma ,\" said Mr . Knightley .                                                                                                                                                                                                                                                                                                                                                                                                                                                                                                                                                                                                                                                                                                                                                                                                                                                                                     0.639327\n",
      "\" I do not know what your opinion may be , Mrs . Weston ,\" said Mr . Knightley , \" of this great intimacy between Emma and Harriet Smith , but I think it a bad thing .\"                                                                                                                                                                                                                                                                                                                                                                                                                                                                                                                                                                                                                                                                                                                                                                         0.603483\n",
      "\" You are right , Mrs . Weston ,\" said Mr . Knightley warmly , \" Miss Fairfax is as capable as any of us of forming a just opinion of Mrs . Elton .                                                                                                                                                                                                                                                                                                                                                                                                                                                                                                                                                                                                                                                                                                                                                                                              0.593404\n",
      "Mrs . Weston was acting no part , feigning no feelings in all that she said to him in favour of the event . She had been extremely surprized , never more so , than when Emma first opened the affair to her ; but she saw in it only increase of happiness to all , and had no scruple in urging him to the utmost . She had such a regard for Mr . Knightley , as to think he deserved even her dearest Emma ; and it was in every respect so proper , suitable , and unexceptionable a connexion , and in one respect , one point of the highest importance , so peculiarly eligible , so singularly fortunate , that now it seemed as if Emma could not safely have attached herself to any other creature , and that she had herself been the stupidest of beings in not having thought of it , and wished it long ago . How very few of those men in a rank of life to address Emma would have renounced their own home for Hartfield !    0.581430\n",
      "Emma could not have desired a more spirited rejection of Mr . Martin ' s prose .                                                                                                                                                                                                                                                                                                                                                                                                                                                                                                                                                                                                                                                                                                                                                                                                                                                                 0.579909\n",
      "\" Emma ,\" said Mr . Knightley presently , \" I have a piece of news for you .                                                                                                                                                                                                                                                                                                                                                                                                                                                                                                                                                                                                                                                                                                                                                                                                                                                                     0.570136\n",
      "This was so very well understood between them , that Emma could not but feel some surprise , and a little displeasure , on hearing from Mr . Weston that he had been proposing to Mrs . Elton , as her brother and sister had failed her , that the two parties should unite , and go together ; and that as Mrs . Elton had very readily acceded to it , so it was to be , if she had no objection .                                                                                                                                                                                                                                                                                                                                                                                                                                                                                                                                            0.564095\n",
      "\" Now ,\" said Emma , when they were fairly beyond the sweep gates , \" now Mr . Weston , do let me know what has happened .\"                                                                                                                                                                                                                                                                                                                                                                                                                                                                                                                                                                                                                                                                                                                                                                                                                      0.550655\n",
      "\" Pray , Mr . Knightley ,\" said Emma , who had been smiling to herself through a great part of this speech , \" how do you know that Mr . Martin did not speak yesterday ?\"                                                                                                                                                                                                                                                                                                                                                                                                                                                                                                                                                                                                                                                                                                                                                                       0.542773\n",
      "Mr . Knightley might quarrel with her , but Emma could not quarrel with herself .                                                                                                                                                                                                                                                                                                                                                                                                                                                                                                                                                                                                                                                                                                                                                                                                                                                                0.540340\n",
      "\" Emma knows I never flatter her ,\" said Mr . Knightley , \" but I meant no reflection on any body .                                                                                                                                                                                                                                                                                                                                                                                                                                                                                                                                                                                                                                                                                                                                                                                                                                              0.537278\n",
      "Emma found that it was not Mr . Weston ' s fault that the number of privy councillors was not yet larger .                                                                                                                                                                                                                                                                                                                                                                                                                                                                                                                                                                                                                                                                                                                                                                                                                                       0.533708\n",
      "\" There were misunderstandings between them , Emma ; he said so expressly .                                                                                                                                                                                                                                                                                                                                                                                                                                                                                                                                                                                                                                                                                                                                                                                                                                                                      0.530300\n",
      "\" In one respect , perhaps , Mr . Elton ' s manners are superior to Mr . Knightley ' s or Mr . Weston ' s .                                                                                                                                                                                                                                                                                                                                                                                                                                                                                                                                                                                                                                                                                                                                                                                                                                      0.523338\n",
      "From that moment , Emma could have taken her oath that Mr . Knightley had had no concern in giving the instrument .                                                                                                                                                                                                                                                                                                                                                                                                                                                                                                                                                                                                                                                                                                                                                                                                                              0.521139\n",
      "\" It is not now worth a regret ,\" said Emma .                                                                                                                                                                                                                                                                                                                                                                                                                                                                                                                                                                                                                                                                                                                                                                                                                                                                                                    0.521092\n",
      "Mrs . Weston said no more ; and Emma could imagine with what surprize and mortification she must be returning to her seat .                                                                                                                                                                                                                                                                                                                                                                                                                                                                                                                                                                                                                                                                                                                                                                                                                      0.515237\n",
      "Emma wished she had been alone with Mrs . Weston .                                                                                                                                                                                                                                                                                                                                                                                                                                                                                                                                                                                                                                                                                                                                                                                                                                                                                               0.508566\n",
      "The intermediate month was the one fixed on , as far as they dared , by Emma and Mr .                                                                                                                                                                                                                                                                                                                                                                                                                                                                                                                                                                                                                                                                                                                                                                                                                                                            0.507942\n",
      "Name: 1, dtype: float64\n",
      "Component 2:\n",
      "CHAPTER I       0.999896\n",
      "CHAPTER V       0.999896\n",
      "CHAPTER I       0.999896\n",
      "CHAPTER X       0.999896\n",
      "CHAPTER X       0.999896\n",
      "CHAPTER V       0.999896\n",
      "CHAPTER I       0.999896\n",
      "CHAPTER V       0.999896\n",
      "CHAPTER X       0.999896\n",
      "CHAPTER VI      0.999816\n",
      "CHAPTER XVII    0.999814\n",
      "CHAPTER XIII    0.999813\n",
      "CHAPTER XII     0.999812\n",
      "CHAPTER IV      0.999485\n",
      "CHAPTER IV      0.999485\n",
      "CHAPTER XI      0.999403\n",
      "CHAPTER XI      0.999403\n",
      "CHAPTER VIII    0.999325\n",
      "CHAPTER VIII    0.999325\n",
      "CHAPTER XIV     0.999314\n",
      "Name: 2, dtype: float64\n",
      "Component 3:\n",
      "\" Ah !                                                                                                                                                                                                                                                                                                             0.993002\n",
      "\" Ah !                                                                                                                                                                                                                                                                                                             0.993002\n",
      "But ah !                                                                                                                                                                                                                                                                                                           0.993002\n",
      "\" Ah !                                                                                                                                                                                                                                                                                                             0.993002\n",
      "\" Ah !                                                                                                                                                                                                                                                                                                             0.993002\n",
      "\" Ah !\"                                                                                                                                                                                                                                                                                                            0.993002\n",
      "But ah !                                                                                                                                                                                                                                                                                                           0.993002\n",
      "\" Ah !                                                                                                                                                                                                                                                                                                             0.993002\n",
      "\" Ah !                                                                                                                                                                                                                                                                                                             0.993002\n",
      "\" Ah !                                                                                                                                                                                                                                                                                                             0.993002\n",
      "\" Ah !                                                                                                                                                                                                                                                                                                             0.993002\n",
      "\" Ah !                                                                                                                                                                                                                                                                                                             0.993002\n",
      "\" Ah !                                                                                                                                                                                                                                                                                                             0.993002\n",
      "\" Ah !                                                                                                                                                                                                                                                                                                             0.993002\n",
      "\" Ah !                                                                                                                                                                                                                                                                                                             0.993002\n",
      "\" Ah ! Indeed I am very sorry . Come , shake hands with me .\"                                                                                                                                                                                                                                                      0.598533\n",
      "\" Ah , my dear ,\" said he , \" poor Miss Taylor  It is a grievous business .\"                                                                                                                                                                                                                                       0.560128\n",
      "\" Ah !( shaking his head ) the uncertainty of when I may be able to return ! I shall try for it with a zeal ! It will be the object of all my thoughts and cares ! and if my uncle and aunt go to town this spring  but I am afraid  they did not stir last spring  I am afraid it is a custom gone for ever .\"    0.490583\n",
      "That is _court_ .                                                                                                                                                                                                                                                                                                  0.273559\n",
      "\" From something that he said , my dear Emma , I rather imagine \"                                                                                                                                                                                                                                                  0.058986\n",
      "Name: 3, dtype: float64\n",
      "Component 4:\n",
      "\" There were misunderstandings between them , Emma ; he said so expressly .                                                                                               0.652987\n",
      "\" It is not now worth a regret ,\" said Emma .                                                                                                                             0.633788\n",
      "\" I am ready ,\" said Emma , \" whenever I am wanted .\"                                                                                                                     0.604348\n",
      "\" Are you well , my Emma ?\"                                                                                                                                               0.601463\n",
      "Emma demurred .                                                                                                                                                           0.601463\n",
      "Emma was silenced .                                                                                                                                                       0.592775\n",
      "At first it was downright dulness to Emma .                                                                                                                               0.592162\n",
      "Emma could not resist .                                                                                                                                                   0.586897\n",
      "\" For shame , Emma !                                                                                                                                                      0.581335\n",
      "\" Emma , my dear Emma \"                                                                                                                                                   0.578570\n",
      "\" My dearest Emma ,\" said he , \" for dearest you will always be , whatever the event of this hour ' s conversation , my dearest , most beloved Emma  tell me at once .    0.566586\n",
      "\" It is not fair ,\" said Emma , in a whisper ; \" mine was a random guess .                                                                                                0.562802\n",
      "Emma could not bear to give him pain .                                                                                                                                    0.553358\n",
      "Emma was out of hearing .                                                                                                                                                 0.551067\n",
      "Emma remained in a state of vexation too ; but there was more indistinctness in the causes of her ' s , than in his .                                                     0.549251\n",
      "\" From something that he said , my dear Emma , I rather imagine \"                                                                                                         0.543646\n",
      "This wretched note was the finale of Emma ' s breakfast .                                                                                                                 0.535760\n",
      "Emma laughed and disclaimed .                                                                                                                                             0.525959\n",
      "The speech was more to Emma than to Harriet , which Emma could understand .                                                                                               0.507636\n",
      "\" He knew nothing about it , Emma .                                                                                                                                       0.505532\n",
      "Name: 4, dtype: float64\n"
     ]
    }
   ],
   "source": [
    "#Tweaks Go Here\n",
    "# Train\n",
    "#Our SVD data reducer.  We are going to reduce the feature space from 1379 to 80.\n",
    "svd= TruncatedSVD(80)\n",
    "lsa = make_pipeline(svd, Normalizer(copy=False))\n",
    "# Run SVD on the training data, then project the training data.\n",
    "X_train_lsa = lsa.fit_transform(X_train_tfidf)\n",
    "\n",
    "variance_explained=svd.explained_variance_ratio_\n",
    "total_variance = variance_explained.sum()\n",
    "print(\"Percent variance captured by all components:\",total_variance*100)\n",
    "\n",
    "#Looking at what sorts of paragraphs our solution considers similar, for the first five identified topics\n",
    "paras_by_component=pd.DataFrame(X_train_lsa,index=X_train)\n",
    "for i in range(5):\n",
    "    print('Component {}:'.format(i))\n",
    "    print(paras_by_component.loc[:,i].sort_values(ascending=False)[0:20])"
   ]
  },
  {
   "cell_type": "code",
   "execution_count": 13,
   "metadata": {},
   "outputs": [
    {
     "data": {
      "image/png": "[encoded data removed]",
      "text/plain": [
       "<Figure size 432x288 with 2 Axes>"
      ]
     },
     "metadata": {},
     "output_type": "display_data"
    },
    {
     "name": "stdout",
     "output_type": "stream",
     "text": [
      "Key:\n",
      "0 That is _court_ .\n",
      "1 \" Yes , sir , I did indeed ; and I am very much obliged by your kind solicitude about me .\"\n",
      "2 \" How much his business engrosses him already is very plain from the circumstance of his forgetting to inquire for the book you recommended .\n",
      "3 To restrain him as much as might be , by her own manners , she was immediately preparing to speak with exquisite calmness and gravity of the weather and the night ; but scarcely had she begun , scarcely had they passed the sweep - gate and joined the other carriage , than she found her subject cut up  her hand seized  her attention demanded , and Mr . Elton actually making violent love to her : availing himself of the precious opportunity , declaring sentiments which must be already well known , hoping  fearing  adoring  ready to die if she refused him ; but flattering himself that his ardent attachment and unequalled love and unexampled passion could not fail of having some effect , and in short , very much resolved on being seriously accepted as soon as possible .\n",
      "4 Emma smiled and answered \" My visit was of use to the nervous part of her complaint , I hope ; but not even I can charm away a sore throat ; it is a most severe cold indeed .\n",
      "5 A very few minutes more , however , completed the present trial .\n",
      "6 \" I am delighted to hear you speak so stoutly on the subject ,\" replied Emma , smiling ; \" but you do not mean to deny that there was a time  and not very distant either  when you gave me reason to understand that you did care about him ?\"\n",
      "7 \" Very well ; and if he had intended to give her one , he would have told her so .\"\n",
      "8 Some laughed , and answered good - humouredly .\n",
      "9 \" There appeared such a perfectly good understanding among them all \" he began rather quickly , but checking himself , added , \" however , it is impossible for me to say on what terms they really were  how it might all be behind the scenes .\n",
      "10 \" And when she had come away , Mrs . Martin was so very kind as to send Mrs . Goddard a beautiful goose  the finest goose Mrs . Goddard had ever seen .\n",
      "11 \" I am afraid ,\" said he , composing his features , \" I am very much afraid , my dear Emma , that you will not smile when you hear it .\"\n",
      "12 Mr . Weston , with triumph of a different sort , was confessing that he had known it to be snowing some time , but had not said a word , lest it should make Mr . Woodhouse uncomfortable , and be an excuse for his hurrying away .\n",
      "13 All this spoken extremely fast obliged Miss Bates to stop for breath ; and Emma said something very civil about the excellence of Miss Fairfax ' s handwriting .\n",
      "14 \" He knew nothing about it , Emma .\n",
      "15 \" Oh !\n",
      "16 He had time only to say ,\n",
      "17 \" Oh !\n",
      "18 \" Nonsense !\n",
      "19 \" I can never think of it ,\" she cried , \" without extreme shame .\"\n"
     ]
    }
   ],
   "source": [
    "# Compute document similarity using LSA components\n",
    "similarity = np.asarray(np.asmatrix(X_train_lsa) * np.asmatrix(X_train_lsa).T)\n",
    "#Only taking the first 20 sentences\n",
    "sim_matrix=pd.DataFrame(similarity,index=X_train).iloc[0:20,0:20]\n",
    "#Making a plot\n",
    "ax = sns.heatmap(sim_matrix,yticklabels=range(20))\n",
    "plt.show()\n",
    "\n",
    "#Generating a key for the plot.\n",
    "print('Key:')\n",
    "for i in range(20):\n",
    "    print(i,sim_matrix.index[i])"
   ]
  },
  {
   "cell_type": "code",
   "execution_count": 14,
   "metadata": {},
   "outputs": [
    {
     "name": "stdout",
     "output_type": "stream",
     "text": [
      "Percent variance captured by all components: 38.589949245338\n",
      "Component 0:\n",
      "\" Oh !     0.999936\n",
      "\" Oh !     0.999936\n",
      "\" Oh !     0.999936\n",
      "\" Oh !     0.999936\n",
      "\" Oh !     0.999936\n",
      "\" Oh !     0.999936\n",
      "\" Oh !     0.999936\n",
      "\" Oh !     0.999936\n",
      "\" Oh !     0.999936\n",
      "\" Oh !     0.999936\n",
      "\" Oh !     0.999936\n",
      "\" Oh !     0.999936\n",
      "\" Oh !     0.999936\n",
      "\" Oh !     0.999936\n",
      "\" Oh !\"    0.999936\n",
      "\" Oh !\"    0.999936\n",
      "\" Oh !     0.999936\n",
      "\" Oh !     0.999936\n",
      "\" Oh !     0.999936\n",
      "\" Oh !     0.999936\n",
      "Name: 0, dtype: float64\n",
      "Component 1:\n",
      "\" Well , Mrs . Weston ,\" said Emma triumphantly when he left them , \" what do you say now to Mr . Knightley ' s marrying Jane Fairfax ?\"                                                                                                                                                                                                                                                                                                             0.632300\n",
      "After tea , Mr . and Mrs . Weston , and Mr . Elton sat down with Mr . Woodhouse to cards .                                                                                                                                                                                                                                                                                                                                                           0.613362\n",
      "Frank turned instantly to Emma , to claim her former promise ; and boasted himself an engaged man , which his father looked his most perfect approbation of  and it then appeared that Mrs . Weston was wanting _him_ to dance with Mrs . Elton himself , and that their business was to help to persuade him into it , which was done pretty soon . Mr . Weston and Mrs . Elton led the way , Mr . Frank Churchill and Miss Woodhouse followed .    0.599938\n",
      "In this walk Emma and Mr . Weston found all the others assembled ; and towards this view she immediately perceived Mr . Knightley and Harriet distinct from the rest , quietly leading the way .                                                                                                                                                                                                                                                     0.583540\n",
      "Harriet , Mr . Elton , and Mr . Knightley , their own especial set , were the only persons invited to meet them ; the hours were to be early , as well as the numbers few ; Mr . Woodhouse ' s habits and inclination being consulted in every thing .                                                                                                                                                                                               0.557158\n",
      "While she was gone , Mr . Knightley called , and sat some time with Mr . Woodhouse and Emma , till Mr . Woodhouse , who had previously made up his mind to walk out , was persuaded by his daughter not to defer it , and was induced by the entreaties of both , though against the scruples of his own civility , to leave Mr . Knightley for that purpose .                                                                                       0.540643\n",
      "\" Mr .                                                                                                                                                                                                                                                                                                                                                                                                                                               0.532311\n",
      "\" He is a person I never think of from one month ' s end to another ,\" said Mr . Knightley , with a degree of vexation , which made Emma immediately talk of something else , though she could not comprehend why he should be angry .                                                                                                                                                                                                               0.521328\n",
      "\" Mrs . Weston ' s manners ,\" said Emma , \" were always particularly good .                                                                                                                                                                                                                                                                                                                                                                          0.518244\n",
      "\" I think , indeed ,\" said John Knightley pleasantly , \" that Mr . Weston has some little claim .                                                                                                                                                                                                                                                                                                                                                    0.516961\n",
      "Emma was extremely gratified . They were interrupted by the bustle of Mr . Weston calling on every body to begin dancing again .                                                                                                                                                                                                                                                                                                                     0.514122\n",
      "Mr . Weston was musing .                                                                                                                                                                                                                                                                                                                                                                                                                             0.513649\n",
      "Emma and Harriet had been walking together one morning , and , in Emma ' s opinion , had been talking enough of Mr . Elton for that day .                                                                                                                                                                                                                                                                                                            0.502387\n",
      "Mr . Elton had retreated into the card - room , looking ( Emma trusted ) very foolish .                                                                                                                                                                                                                                                                                                                                                              0.500236\n",
      "Mrs . Weston was disengaged and Emma began again \" Mr . Frank Churchill writes one of the best gentleman ' s hands I ever saw .\"                                                                                                                                                                                                                                                                                                                     0.499863\n",
      "\" Why , to be sure ,\" said Mr . Woodhouse \" yes , certainly  I cannot deny that Mrs . Weston , poor Mrs . Weston , does come and see us pretty often  but then  she is always obliged to go away again .\"                                                                                                                                                                                                                                            0.497435\n",
      "The result of this distress was , that , with a much more voluntary , cheerful consent than his daughter had ever presumed to hope for at the moment , she was able to fix her wedding - day  and Mr . Elton was called on , within a month from the marriage of Mr . and Mrs . Robert Martin , to join the hands of Mr . Knightley and Miss Woodhouse .                                                                                             0.496710\n",
      "\" It is Frank and Miss Fairfax ,\" said Mrs . Weston .                                                                                                                                                                                                                                                                                                                                                                                                0.493336\n",
      "Mr . Weston ' s own happiness was indisputable .                                                                                                                                                                                                                                                                                                                                                                                                     0.487052\n",
      "\" I should not wonder ,\" said Mrs . Weston , \" if Miss Fairfax were to have been drawn on beyond her own inclination , by her aunt ' s eagerness in accepting Mrs . Elton ' s civilities for her .                                                                                                                                                                                                                                                   0.485764\n",
      "Name: 1, dtype: float64\n",
      "Component 2:\n",
      "\" Ah !                                            0.997027\n",
      "\" Ah !                                            0.997027\n",
      "\" Ah !                                            0.997027\n",
      "\" Ah !                                            0.997027\n",
      "\" Ah !                                            0.997027\n",
      "\" Ah !                                            0.997027\n",
      "\" Ah !\"                                           0.997027\n",
      "\" Ah !\"                                           0.997027\n",
      "\" Ah !                                            0.997027\n",
      "\" Ah !                                            0.997027\n",
      "\" Ah !                                            0.997027\n",
      "\" Ah !                                            0.997027\n",
      "\" Ah !                                            0.997027\n",
      "\" Ah !                                            0.997027\n",
      "\" Ah ! so you say ; but I cannot believe it .\"    0.801641\n",
      "\" Ah ! well  to be sure .                         0.785483\n",
      "\" To be sure .                                    0.063609\n",
      "\" To be sure !\"                                   0.063609\n",
      "\" Are you sure ?                                  0.063609\n",
      "\" To be sure I am .                               0.063609\n",
      "Name: 2, dtype: float64\n",
      "Component 3:\n",
      "\" Mr .                                                                                                                                                                                                                                                                                                                                                            0.649547\n",
      "After tea , Mr . and Mrs . Weston , and Mr . Elton sat down with Mr . Woodhouse to cards .                                                                                                                                                                                                                                                                        0.576714\n",
      "Mr . Knightley was thoughtful again .                                                                                                                                                                                                                                                                                                                             0.533892\n",
      "\" You are not vain , Mr . Knightley .                                                                                                                                                                                                                                                                                                                             0.529083\n",
      "She meant to be very happy , in spite of the scene being laid at Mr . Cole ' s ; and without being able to forget that among the failings of Mr . Elton , even in the days of his favour , none had disturbed her more than his propensity to dine with Mr . Cole .                                                                                               0.521454\n",
      "Mr . Weston was musing .                                                                                                                                                                                                                                                                                                                                          0.508175\n",
      "Harriet , Mr . Elton , and Mr . Knightley , their own especial set , were the only persons invited to meet them ; the hours were to be early , as well as the numbers few ; Mr . Woodhouse ' s habits and inclination being consulted in every thing .                                                                                                            0.487405\n",
      "Mr . Weston ' s own happiness was indisputable .                                                                                                                                                                                                                                                                                                                  0.482108\n",
      "Mr . Knightley shook his head at her .                                                                                                                                                                                                                                                                                                                            0.466872\n",
      "\" And I , Mr . Knightley , am equally stout in my confidence of its not doing them any harm .                                                                                                                                                                                                                                                                     0.466117\n",
      "Mr . Knightley was hard at work upon the lower buttons of his thick leather gaiters , and either the exertion of getting them together , or some other cause , brought the colour into his face , as he answered ,                                                                                                                                                0.462401\n",
      "She spoke with a confidence which staggered , with a satisfaction which silenced , Mr . Knightley .                                                                                                                                                                                                                                                               0.447715\n",
      "\" Christmas weather ,\" observed Mr . Elton .                                                                                                                                                                                                                                                                                                                      0.428250\n",
      "\" Mr . Elton , this is the most extraordinary conduct !                                                                                                                                                                                                                                                                                                           0.428216\n",
      "Mr . Knightley had another reason for avoiding a table in the shade .                                                                                                                                                                                                                                                                                             0.421301\n",
      "Mr . John Knightley proved more talkative than his brother .                                                                                                                                                                                                                                                                                                      0.416432\n",
      "Mr . Elton was only too happy .                                                                                                                                                                                                                                                                                                                                   0.412447\n",
      "\" Have you any idea of Mr . Knightley ' s returning your affection ?\"                                                                                                                                                                                                                                                                                             0.412411\n",
      "While she was gone , Mr . Knightley called , and sat some time with Mr . Woodhouse and Emma , till Mr . Woodhouse , who had previously made up his mind to walk out , was persuaded by his daughter not to defer it , and was induced by the entreaties of both , though against the scruples of his own civility , to leave Mr . Knightley for that purpose .    0.412278\n",
      "The result of this distress was , that , with a much more voluntary , cheerful consent than his daughter had ever presumed to hope for at the moment , she was able to fix her wedding - day  and Mr . Elton was called on , within a month from the marriage of Mr . and Mrs . Robert Martin , to join the hands of Mr . Knightley and Miss Woodhouse .          0.398178\n",
      "Name: 3, dtype: float64\n",
      "Component 4:\n",
      "\" Yes .                                                                                                                                                                                0.655179\n",
      "\" Yes , do .\"                                                                                                                                                                          0.655179\n",
      "\" Yes , sometimes he can .\"                                                                                                                                                            0.655179\n",
      "\" Yes I should , I am sure I should .                                                                                                                                                  0.640489\n",
      "\" Yes , so I imagined .                                                                                                                                                                0.637096\n",
      "\" Yes  a good deal _nearer_ .\"                                                                                                                                                         0.596126\n",
      "\" Yes ; but we must not rest our claims on that distinction .                                                                                                                          0.595954\n",
      "\" Yes , she would be , but that she thinks there will be another put - off .                                                                                                           0.591139\n",
      "\" Yes , our good Mrs . Elton .                                                                                                                                                         0.556892\n",
      "\" Yes , very soon .                                                                                                                                                                    0.540755\n",
      "\" Yes , yes , pray pass _me_ ,\" added her husband , with a sort of sneering consciousness ; \" _I_ have nothing to say that can entertain Miss Woodhouse , or any other young lady .    0.531351\n",
      "\" Yes ; Jane says she is sure they will ; but yet , this is such a situation as she cannot feel herself justified in declining .                                                       0.526644\n",
      "\" Yes ,\" said he , smiling \" and reason good .                                                                                                                                         0.499160\n",
      "\" Yes , certainly it does .                                                                                                                                                            0.483833\n",
      "\" Yes ,\" said his brother quickly , \" it is Randalls that does it all .\"                                                                                                               0.445739\n",
      "\" Yes  rather  I have been thinking of it some little time .\"                                                                                                                          0.432535\n",
      "\" Yes ,\" said John Knightley , \" and I think we shall have a good deal of it .\"                                                                                                        0.411968\n",
      "\" Yes , upon my word , very considerable .                                                                                                                                             0.408649\n",
      "\" Yes , I have no doubt of her being extremely attached to him .\"                                                                                                                      0.403732\n",
      "\" Yes ,\" said Harriet earnestly , \" and well she might , nobody could ever have a better .                                                                                             0.393161\n",
      "Name: 4, dtype: float64\n"
     ]
    }
   ],
   "source": [
    "# test\n",
    "#Our SVD data reducer.  We are going to reduce the feature space from 1379 to 130.\n",
    "svd= TruncatedSVD(80)\n",
    "lsa = make_pipeline(svd, Normalizer(copy=False))\n",
    "# Run SVD on the training data, then project the test data.\n",
    "X_test_lsa = lsa.fit_transform(X_test_tfidf)\n",
    "\n",
    "variance_explained=svd.explained_variance_ratio_\n",
    "total_variance = variance_explained.sum()\n",
    "print(\"Percent variance captured by all components:\",total_variance*100)\n",
    "\n",
    "#Looking at what sorts of paragraphs our solution considers similar, for the first five identified topics\n",
    "paras_by_component=pd.DataFrame(X_test_lsa,index=X_test)\n",
    "for i in range(5):\n",
    "    print('Component {}:'.format(i))\n",
    "    print(paras_by_component.loc[:,i].sort_values(ascending=False)[0:20])"
   ]
  },
  {
   "cell_type": "code",
   "execution_count": 15,
   "metadata": {},
   "outputs": [
    {
     "data": {
      "image/png": "[encoded data removed]",
      "text/plain": [
       "<Figure size 432x288 with 2 Axes>"
      ]
     },
     "metadata": {},
     "output_type": "display_data"
    },
    {
     "name": "stdout",
     "output_type": "stream",
     "text": [
      "Key:\n",
      "0 Mr . Woodhouse had so completely made up his mind to the visit , that in spite of the increasing coldness , he seemed to have no idea of shrinking from it , and set forward at last most punctually with his eldest daughter in his own carriage , with less apparent consciousness of the weather than either of the others ; too full of the wonder of his own going , and the pleasure it was to afford at Randalls to see that it was cold , and too well wrapt up to feel it .\n",
      "1 \" Oh !\n",
      "2 \" Oh no , no !\n",
      "3 Such was Jane Fairfax ' s history .\n",
      "4 \" That has been a good deal the case , my dear ; but not to the degree you mention .\n",
      "5 \" And I am quite serious too , I assure you ,\" replied Mrs . Elton gaily , \" in resolving to be always on the watch , and employing my friends to watch also , that nothing really unexceptionable may pass us .\"\n",
      "6 \" And here is Mrs . Weston and Mr . Frank Churchill too ! Quite delightful ; so many friends !\"\n",
      "7 \" You may well class the delight , the honour , and the comfort of such a situation together ,\" said Jane , \" they are pretty sure to be equal ; however , I am very serious in not wishing any thing to be attempted at present for me .\n",
      "8 Harriet , Mr . Elton , and Mr . Knightley , their own especial set , were the only persons invited to meet them ; the hours were to be early , as well as the numbers few ; Mr . Woodhouse ' s habits and inclination being consulted in every thing .\n",
      "9 \" Oh !\n",
      "10 \" Where is the young man ?\"\n",
      "11 But that would not do .\n",
      "12 \" Well ,\" said Emma , \" I suppose we shall gradually grow reconciled to the idea , and I wish them very happy .\n",
      "13 \" How d ' ye do ? how d ' ye do ? We have been sitting with your father  glad to see him so well .\n",
      "14 \" Well  if you advise it . But ( with a smile ) if Colonel Campbell should have employed a careless friend , and if it should prove to have an indifferent tone  what shall I say ?\n",
      "15 \" Perhaps you think I am come on purpose to quarrel with you , knowing Weston to be out , and that you must still fight your own battle .\"\n",
      "16 Kitty , a fair but frozen maid , Kindled a flame I yet deplore , The hood - wink ' d boy I called to aid , Though of his near approach afraid , So fatal to my suit before .\n",
      "17 The gipsies did not wait for the operations of justice ; they took themselves off in a hurry .\n",
      "18 He wanted her to look up and smile ; and having now brought herself not to smile too broadly  she did  cheerfully answering ,\n",
      "19 Mr . Frank Churchill did not come .\n"
     ]
    }
   ],
   "source": [
    "# Compute document similarity using LSA components\n",
    "similarity = np.asarray(np.asmatrix(X_test_lsa) * np.asmatrix(X_test_lsa).T)\n",
    "#Only taking the first 20 sentences\n",
    "sim_matrix=pd.DataFrame(similarity,index=X_test).iloc[0:20,0:20]\n",
    "#Making a plot\n",
    "ax = sns.heatmap(sim_matrix,yticklabels=range(20))\n",
    "plt.show()\n",
    "\n",
    "#Generating a key for the plot.\n",
    "print('Key:')\n",
    "for i in range(20):\n",
    "    print(i,sim_matrix.index[i])"
   ]
  },
  {
   "cell_type": "code",
   "execution_count": 17,
   "metadata": {},
   "outputs": [
    {
     "name": "stdout",
     "output_type": "stream",
     "text": [
      "Percent variance captured by all components: 83.07157855638634\n",
      "Component 0:\n",
      "\" Oh !     0.999194\n",
      "\" Oh !     0.999194\n",
      "\" Oh !     0.999194\n",
      "\" Oh !     0.999194\n",
      "\" Oh !     0.999194\n",
      "\" Oh !\"    0.999194\n",
      "\" Oh !     0.999194\n",
      "\" Oh !     0.999194\n",
      "\" Oh !     0.999194\n",
      "\" Oh !\"    0.999194\n",
      "\" Oh !     0.999194\n",
      "\" Oh !     0.999194\n",
      "\" Oh !     0.999194\n",
      "\" Oh !     0.999194\n",
      "\" Oh !     0.999194\n",
      "\" Oh !     0.999194\n",
      "\" Oh !     0.999194\n",
      "\" Oh !     0.999194\n",
      "\" Oh !\"    0.999194\n",
      "\" Oh !     0.999194\n",
      "Name: 0, dtype: float64\n",
      "Component 1:\n",
      "\" You have made her too tall , Emma ,\" said Mr . Knightley .                                                                                                                      0.569282\n",
      "\" There were misunderstandings between them , Emma ; he said so expressly .                                                                                                       0.523852\n",
      "\" I do not know what your opinion may be , Mrs . Weston ,\" said Mr . Knightley , \" of this great intimacy between Emma and Harriet Smith , but I think it a bad thing .\"          0.503370\n",
      "\" You are right , Mrs . Weston ,\" said Mr . Knightley warmly , \" Miss Fairfax is as capable as any of us of forming a just opinion of Mrs . Elton .                               0.473137\n",
      "\" So do I ,\" said Mrs . Weston gently , \" very much .\"                                                                                                                            0.467202\n",
      "\" I do not admire it ,\" said Mr . Knightley .                                                                                                                                     0.447192\n",
      "\" Are you well , my Emma ?\"                                                                                                                                                       0.429143\n",
      "Emma demurred .                                                                                                                                                                   0.429143\n",
      "\" Emma , my dear Emma \"                                                                                                                                                           0.421865\n",
      "\" In one respect , perhaps , Mr . Elton ' s manners are superior to Mr . Knightley ' s or Mr . Weston ' s .                                                                       0.413690\n",
      "\" No great variety of faces for you ,\" said Emma .                                                                                                                                0.413646\n",
      "\"` Mr .                                                                                                                                                                           0.400010\n",
      "\" But you will come again ,\" said Emma .                                                                                                                                          0.395287\n",
      "\" Mr . Elton indeed !\"                                                                                                                                                            0.393184\n",
      "\" Mr . Knightley was there too , was he ?\"                                                                                                                                        0.390954\n",
      "\" Pray , Mr . Knightley ,\" said Emma , who had been smiling to herself through a great part of this speech , \" how do you know that Mr . Martin did not speak yesterday ?\"        0.388639\n",
      "\" You seem to me to have forgotten Mrs . and Miss Bates ,\" said Emma , \" I have not heard one inquiry after them .\"                                                               0.382520\n",
      "\" You get upon delicate subjects , Emma ,\" said Mrs . Weston smiling ; \" remember that I am here . Mr .                                                                           0.378345\n",
      "Emma wished she had been alone with Mrs . Weston .                                                                                                                                0.377435\n",
      "Miss Bates and Miss Fairfax , escorted by the two gentlemen , walked into the room ; and Mrs . Elton seemed to think it as much her duty as Mrs . Weston ' s to receive them .    0.375344\n",
      "Name: 1, dtype: float64\n",
      "Component 2:\n",
      "CHAPTER X       0.985227\n",
      "CHAPTER V       0.985227\n",
      "CHAPTER I       0.985227\n",
      "CHAPTER V       0.985227\n",
      "CHAPTER V       0.985227\n",
      "CHAPTER X       0.985227\n",
      "CHAPTER X       0.985227\n",
      "CHAPTER I       0.985227\n",
      "CHAPTER I       0.985227\n",
      "CHAPTER XII     0.871528\n",
      "CHAPTER XVII    0.858325\n",
      "CHAPTER XIII    0.830134\n",
      "CHAPTER VI      0.822263\n",
      "CHAPTER III     0.627279\n",
      "CHAPTER III     0.627279\n",
      "CHAPTER III     0.627279\n",
      "CHAPTER II      0.614402\n",
      "CHAPTER II      0.614402\n",
      "CHAPTER II      0.614402\n",
      "CHAPTER XVI     0.602850\n",
      "Name: 2, dtype: float64\n",
      "Component 3:\n",
      "\" Ah !\"                                                                                                                                                                                                                                                                                                            0.992713\n",
      "\" Ah !                                                                                                                                                                                                                                                                                                             0.992713\n",
      "\" Ah !                                                                                                                                                                                                                                                                                                             0.992713\n",
      "\" Ah !                                                                                                                                                                                                                                                                                                             0.992713\n",
      "\" Ah !                                                                                                                                                                                                                                                                                                             0.992713\n",
      "\" Ah !                                                                                                                                                                                                                                                                                                             0.992713\n",
      "\" Ah !                                                                                                                                                                                                                                                                                                             0.992713\n",
      "\" Ah !                                                                                                                                                                                                                                                                                                             0.992713\n",
      "\" Ah !                                                                                                                                                                                                                                                                                                             0.992713\n",
      "But ah !                                                                                                                                                                                                                                                                                                           0.992713\n",
      "\" Ah !                                                                                                                                                                                                                                                                                                             0.992713\n",
      "\" Ah !                                                                                                                                                                                                                                                                                                             0.992713\n",
      "But ah !                                                                                                                                                                                                                                                                                                           0.992713\n",
      "\" Ah !                                                                                                                                                                                                                                                                                                             0.992713\n",
      "\" Ah !                                                                                                                                                                                                                                                                                                             0.992713\n",
      "\" Ah , my dear ,\" said he , \" poor Miss Taylor  It is a grievous business .\"                                                                                                                                                                                                                                       0.483653\n",
      "\" Ah ! Indeed I am very sorry . Come , shake hands with me .\"                                                                                                                                                                                                                                                      0.483626\n",
      "\" Ah !( shaking his head ) the uncertainty of when I may be able to return ! I shall try for it with a zeal ! It will be the object of all my thoughts and cares ! and if my uncle and aunt go to town this spring  but I am afraid  they did not stir last spring  I am afraid it is a custom gone for ever .\"    0.202483\n",
      "\" What is to be done , my dear Emma ? what is to be done ?\"                                                                                                                                                                                                                                                        0.053767\n",
      "\" Dear Miss Woodhouse !\"                                                                                                                                                                                                                                                                                           0.049568\n",
      "Name: 3, dtype: float64\n",
      "Component 4:\n",
      "\" There were misunderstandings between them , Emma ; he said so expressly .                                            0.645049\n",
      "Emma demurred .                                                                                                        0.591302\n",
      "\" Are you well , my Emma ?\"                                                                                            0.591302\n",
      "\" Emma , my dear Emma \"                                                                                                0.572126\n",
      "\" No great variety of faces for you ,\" said Emma .                                                                     0.471147\n",
      "\" What is to be done , my dear Emma ? what is to be done ?\"                                                            0.464229\n",
      "\" But you will come again ,\" said Emma .                                                                               0.436010\n",
      "\" From something that he said , my dear Emma , I rather imagine \"                                                      0.430241\n",
      "\" Yes ,\" said Emma , \" I hope I do .\"                                                                                  0.389432\n",
      "The speech was more to Emma than to Harriet , which Emma could understand .                                            0.379929\n",
      "\" He ought to come ,\" said Emma .                                                                                      0.357903\n",
      "\" I am ready ,\" said Emma , \" whenever I am wanted .\"                                                                  0.349475\n",
      "\" I see how it is ,\" said she .                                                                                        0.348006\n",
      "\" We were too magnificent ,\" said he .                                                                                 0.348006\n",
      "\" I am very much obliged to you ,\" said Emma , laughing again .                                                        0.339242\n",
      "Emma could say no more .                                                                                               0.330438\n",
      "[ Emma by Jane Austen 1816 ]                                                                                           0.312550\n",
      "\" It is not now worth a regret ,\" said Emma .                                                                          0.305875\n",
      "Emma could not doubt .                                                                                                 0.304170\n",
      "\" If we were in the other room ,\" said Emma , \" if I had my writing - desk , I am sure I could produce a specimen .    0.294481\n",
      "Name: 4, dtype: float64\n"
     ]
    }
   ],
   "source": [
    "# increasing  feature space\n",
    "# Train\n",
    "#Our SVD data reducer.  We are going to reduce the feature space from 1379 to 200.\n",
    "svd= TruncatedSVD(500)\n",
    "lsa = make_pipeline(svd, Normalizer(copy=False))\n",
    "# Run SVD on the training data, then project the training data.\n",
    "X_train_lsa = lsa.fit_transform(X_train_tfidf)\n",
    "\n",
    "variance_explained=svd.explained_variance_ratio_\n",
    "total_variance = variance_explained.sum()\n",
    "print(\"Percent variance captured by all components:\",total_variance*100)\n",
    "\n",
    "#Looking at what sorts of paragraphs our solution considers similar, for the first five identified topics\n",
    "paras_by_component=pd.DataFrame(X_train_lsa,index=X_train)\n",
    "for i in range(5):\n",
    "    print('Component {}:'.format(i))\n",
    "    print(paras_by_component.loc[:,i].sort_values(ascending=False)[0:20])"
   ]
  },
  {
   "cell_type": "code",
   "execution_count": 18,
   "metadata": {},
   "outputs": [
    {
     "data": {
      "image/png": "[encoded data removed]",
      "text/plain": [
       "<Figure size 432x288 with 2 Axes>"
      ]
     },
     "metadata": {},
     "output_type": "display_data"
    },
    {
     "name": "stdout",
     "output_type": "stream",
     "text": [
      "Key:\n",
      "0 That is _court_ .\n",
      "1 \" Yes , sir , I did indeed ; and I am very much obliged by your kind solicitude about me .\"\n",
      "2 \" How much his business engrosses him already is very plain from the circumstance of his forgetting to inquire for the book you recommended .\n",
      "3 To restrain him as much as might be , by her own manners , she was immediately preparing to speak with exquisite calmness and gravity of the weather and the night ; but scarcely had she begun , scarcely had they passed the sweep - gate and joined the other carriage , than she found her subject cut up  her hand seized  her attention demanded , and Mr . Elton actually making violent love to her : availing himself of the precious opportunity , declaring sentiments which must be already well known , hoping  fearing  adoring  ready to die if she refused him ; but flattering himself that his ardent attachment and unequalled love and unexampled passion could not fail of having some effect , and in short , very much resolved on being seriously accepted as soon as possible .\n",
      "4 Emma smiled and answered \" My visit was of use to the nervous part of her complaint , I hope ; but not even I can charm away a sore throat ; it is a most severe cold indeed .\n",
      "5 A very few minutes more , however , completed the present trial .\n",
      "6 \" I am delighted to hear you speak so stoutly on the subject ,\" replied Emma , smiling ; \" but you do not mean to deny that there was a time  and not very distant either  when you gave me reason to understand that you did care about him ?\"\n",
      "7 \" Very well ; and if he had intended to give her one , he would have told her so .\"\n",
      "8 Some laughed , and answered good - humouredly .\n",
      "9 \" There appeared such a perfectly good understanding among them all \" he began rather quickly , but checking himself , added , \" however , it is impossible for me to say on what terms they really were  how it might all be behind the scenes .\n",
      "10 \" And when she had come away , Mrs . Martin was so very kind as to send Mrs . Goddard a beautiful goose  the finest goose Mrs . Goddard had ever seen .\n",
      "11 \" I am afraid ,\" said he , composing his features , \" I am very much afraid , my dear Emma , that you will not smile when you hear it .\"\n",
      "12 Mr . Weston , with triumph of a different sort , was confessing that he had known it to be snowing some time , but had not said a word , lest it should make Mr . Woodhouse uncomfortable , and be an excuse for his hurrying away .\n",
      "13 All this spoken extremely fast obliged Miss Bates to stop for breath ; and Emma said something very civil about the excellence of Miss Fairfax ' s handwriting .\n",
      "14 \" He knew nothing about it , Emma .\n",
      "15 \" Oh !\n",
      "16 He had time only to say ,\n",
      "17 \" Oh !\n",
      "18 \" Nonsense !\n",
      "19 \" I can never think of it ,\" she cried , \" without extreme shame .\"\n"
     ]
    }
   ],
   "source": [
    "# Compute document similarity using LSA components\n",
    "similarity = np.asarray(np.asmatrix(X_train_lsa) * np.asmatrix(X_train_lsa).T)\n",
    "#Only taking the first 20 sentences\n",
    "sim_matrix=pd.DataFrame(similarity,index=X_train).iloc[0:20,0:20]\n",
    "#Making a plot\n",
    "ax = sns.heatmap(sim_matrix,yticklabels=range(20))\n",
    "plt.show()\n",
    "\n",
    "#Generating a key for the plot.\n",
    "print('Key:')\n",
    "for i in range(20):\n",
    "    print(i,sim_matrix.index[i])"
   ]
  },
  {
   "cell_type": "code",
   "execution_count": 19,
   "metadata": {},
   "outputs": [
    {
     "name": "stdout",
     "output_type": "stream",
     "text": [
      "Percent variance captured by all components: 90.63640096657437\n",
      "Component 0:\n",
      "\" Oh no !      0.999888\n",
      "\" Oh !         0.999888\n",
      "\" Oh !\"        0.999888\n",
      "\" Oh !         0.999888\n",
      "\" Oh !         0.999888\n",
      "\" Me ! oh !    0.999888\n",
      "\" Oh !         0.999888\n",
      "\" Oh no !      0.999888\n",
      "\" Oh !         0.999888\n",
      "\" Oh !         0.999888\n",
      "\" Oh !         0.999888\n",
      "\" Oh !         0.999888\n",
      "\" Oh !         0.999888\n",
      "\" Oh !         0.999888\n",
      "\" Oh !\"        0.999888\n",
      "\" Oh !         0.999888\n",
      "\" Oh !         0.999888\n",
      "\" Oh !         0.999888\n",
      "\" Oh !         0.999888\n",
      "\" Oh !         0.999888\n",
      "Name: 0, dtype: float64\n",
      "Component 1:\n",
      "\" Well , Mrs . Weston ,\" said Emma triumphantly when he left them , \" what do you say now to Mr . Knightley ' s marrying Jane Fairfax ?\"                                                                                                                                                                                                                                                                                                             0.524750\n",
      "Mr . Weston was musing .                                                                                                                                                                                                                                                                                                                                                                                                                             0.490506\n",
      "\" Mr .                                                                                                                                                                                                                                                                                                                                                                                                                                               0.485464\n",
      "After tea , Mr . and Mrs . Weston , and Mr . Elton sat down with Mr . Woodhouse to cards .                                                                                                                                                                                                                                                                                                                                                           0.477663\n",
      "\" It is Frank and Miss Fairfax ,\" said Mrs . Weston .                                                                                                                                                                                                                                                                                                                                                                                                0.462702\n",
      "\" Why , to be sure ,\" said Mr . Woodhouse \" yes , certainly  I cannot deny that Mrs . Weston , poor Mrs . Weston , does come and see us pretty often  but then  she is always obliged to go away again .\"                                                                                                                                                                                                                                            0.453680\n",
      "Frank turned instantly to Emma , to claim her former promise ; and boasted himself an engaged man , which his father looked his most perfect approbation of  and it then appeared that Mrs . Weston was wanting _him_ to dance with Mrs . Elton himself , and that their business was to help to persuade him into it , which was done pretty soon . Mr . Weston and Mrs . Elton led the way , Mr . Frank Churchill and Miss Woodhouse followed .    0.432920\n",
      "\" Mrs . Weston ' s manners ,\" said Emma , \" were always particularly good .                                                                                                                                                                                                                                                                                                                                                                          0.398842\n",
      "\" It is very pretty ,\" said Mr . Woodhouse .                                                                                                                                                                                                                                                                                                                                                                                                         0.398393\n",
      "While she was gone , Mr . Knightley called , and sat some time with Mr . Woodhouse and Emma , till Mr . Woodhouse , who had previously made up his mind to walk out , was persuaded by his daughter not to defer it , and was induced by the entreaties of both , though against the scruples of his own civility , to leave Mr . Knightley for that purpose .                                                                                       0.395243\n",
      "\" Mr . Knightley and Jane Fairfax !\"                                                                                                                                                                                                                                                                                                                                                                                                                 0.384059\n",
      "\" I doubt its being very clever myself ,\" said Mr . Weston .                                                                                                                                                                                                                                                                                                                                                                                         0.367160\n",
      "\" I think , indeed ,\" said John Knightley pleasantly , \" that Mr . Weston has some little claim .                                                                                                                                                                                                                                                                                                                                                    0.359943\n",
      "\" And here is Mrs . Weston and Mr . Frank Churchill too ! Quite delightful ; so many friends !\"                                                                                                                                                                                                                                                                                                                                                      0.357977\n",
      "Emma and Harriet had been walking together one morning , and , in Emma ' s opinion , had been talking enough of Mr . Elton for that day .                                                                                                                                                                                                                                                                                                            0.347873\n",
      "\" I know how highly you think of Jane Fairfax ,\" said Emma .                                                                                                                                                                                                                                                                                                                                                                                         0.346402\n",
      "Mr . Weston ' s own happiness was indisputable .                                                                                                                                                                                                                                                                                                                                                                                                     0.345792\n",
      "\" What did Mr . Weston tell you ?\"                                                                                                                                                                                                                                                                                                                                                                                                                   0.340229\n",
      "\" By the bye ,\" said Frank Churchill to Mrs . Weston presently , \" what became of Mr . Perry ' s plan of setting up his carriage ?\"                                                                                                                                                                                                                                                                                                                  0.338849\n",
      "\" And no great harm if it does ,\" said Mr . Woodhouse .                                                                                                                                                                                                                                                                                                                                                                                              0.337459\n",
      "Name: 1, dtype: float64\n",
      "Component 2:\n",
      "\" Ah !                                            0.996749\n",
      "\" Ah !                                            0.996749\n",
      "\" Ah !                                            0.996749\n",
      "\" Ah !                                            0.996749\n",
      "\" Ah !\"                                           0.996749\n",
      "\" Ah !\"                                           0.996749\n",
      "\" Ah !                                            0.996749\n",
      "\" Ah !                                            0.996749\n",
      "\" Ah !                                            0.996749\n",
      "\" Ah !                                            0.996749\n",
      "\" Ah !                                            0.996749\n",
      "\" Ah !                                            0.996749\n",
      "\" Ah !                                            0.996749\n",
      "\" Ah !                                            0.996749\n",
      "\" Ah ! well  to be sure .                         0.780744\n",
      "\" Ah ! so you say ; but I cannot believe it .\"    0.676540\n",
      "\" To be sure !\"                                   0.062716\n",
      "\" To be sure .                                    0.062716\n",
      "\" To be sure I am .                               0.062716\n",
      "\" Are you sure ?                                  0.062716\n",
      "Name: 2, dtype: float64\n",
      "Component 3:\n",
      "\" Mr .                                                                                                                                                                                                                                                                                                                                                            0.592373\n",
      "Mr . Weston was musing .                                                                                                                                                                                                                                                                                                                                          0.485273\n",
      "After tea , Mr . and Mrs . Weston , and Mr . Elton sat down with Mr . Woodhouse to cards .                                                                                                                                                                                                                                                                        0.449126\n",
      "Mr . Weston ' s own happiness was indisputable .                                                                                                                                                                                                                                                                                                                  0.342282\n",
      "Mr . Elton was only too happy .                                                                                                                                                                                                                                                                                                                                   0.339929\n",
      "\" You are not vain , Mr . Knightley .                                                                                                                                                                                                                                                                                                                             0.339045\n",
      "\" Mr . Martin !                                                                                                                                                                                                                                                                                                                                                   0.336898\n",
      "\" Only one more , papa ; only for Mr . Elton .                                                                                                                                                                                                                                                                                                                    0.306578\n",
      "Mr . Knightley was thoughtful again .                                                                                                                                                                                                                                                                                                                             0.302287\n",
      "While she was gone , Mr . Knightley called , and sat some time with Mr . Woodhouse and Emma , till Mr . Woodhouse , who had previously made up his mind to walk out , was persuaded by his daughter not to defer it , and was induced by the entreaties of both , though against the scruples of his own civility , to leave Mr . Knightley for that purpose .    0.301401\n",
      "\" It is so , indeed ,\" continued Mr . Knightley ; \" I have it from Robert Martin himself .                                                                                                                                                                                                                                                                        0.279597\n",
      "\" Mr . Elton in love with me ! What an idea !\"                                                                                                                                                                                                                                                                                                                    0.278540\n",
      "Harriet , Mr . Elton , and Mr . Knightley , their own especial set , were the only persons invited to meet them ; the hours were to be early , as well as the numbers few ; Mr . Woodhouse ' s habits and inclination being consulted in every thing .                                                                                                            0.276541\n",
      "\" Mr . Knightley and Jane Fairfax !\"                                                                                                                                                                                                                                                                                                                              0.271329\n",
      "The result of this distress was , that , with a much more voluntary , cheerful consent than his daughter had ever presumed to hope for at the moment , she was able to fix her wedding - day  and Mr . Elton was called on , within a month from the marriage of Mr . and Mrs . Robert Martin , to join the hands of Mr . Knightley and Miss Woodhouse .          0.268768\n",
      "She had no doubt of what Mr . Weston was often thinking about .                                                                                                                                                                                                                                                                                                   0.265020\n",
      "She meant to be very happy , in spite of the scene being laid at Mr . Cole ' s ; and without being able to forget that among the failings of Mr . Elton , even in the days of his favour , none had disturbed her more than his propensity to dine with Mr . Cole .                                                                                               0.261645\n",
      "Mr . Knightley shook his head at her .                                                                                                                                                                                                                                                                                                                            0.259033\n",
      "\" What did Mr . Weston tell you ?\"                                                                                                                                                                                                                                                                                                                                0.255427\n",
      "\" Have you any idea of Mr . Knightley ' s returning your affection ?\"                                                                                                                                                                                                                                                                                             0.247799\n",
      "Name: 3, dtype: float64\n",
      "Component 4:\n",
      "\" Yes .                                                                                                                                                                                                      0.644925\n",
      "\" Yes , sometimes he can .\"                                                                                                                                                                                  0.644925\n",
      "\" Yes , do .\"                                                                                                                                                                                                0.644925\n",
      "\" Yes I should , I am sure I should .                                                                                                                                                                        0.632919\n",
      "\" Yes , our good Mrs . Elton .                                                                                                                                                                               0.539647\n",
      "\" Yes  a good deal _nearer_ .\"                                                                                                                                                                               0.525220\n",
      "\" Yes , very soon .                                                                                                                                                                                          0.521203\n",
      "\" Yes , certainly it does .                                                                                                                                                                                  0.417740\n",
      "\" Yes , so I imagined .                                                                                                                                                                                      0.416776\n",
      "\" Yes , she would be , but that she thinks there will be another put - off .                                                                                                                                 0.405951\n",
      "\" Yes ,\" said he , smiling \" and reason good .                                                                                                                                                               0.405016\n",
      "\" Yes ,\" said John Knightley , \" and I think we shall have a good deal of it .\"                                                                                                                              0.371502\n",
      "\" Why , to be sure ,\" said Mr . Woodhouse \" yes , certainly  I cannot deny that Mrs . Weston , poor Mrs . Weston , does come and see us pretty often  but then  she is always obliged to go away again .\"    0.349374\n",
      "\" Yes  rather  I have been thinking of it some little time .\"                                                                                                                                                0.345114\n",
      "\" Yes , upon my word , very considerable .                                                                                                                                                                   0.337930\n",
      "\" Oh yes , sir ,\" cried she with ready sympathy , \" how you must miss her !                                                                                                                                  0.331177\n",
      "\" Yes , yes , pray pass _me_ ,\" added her husband , with a sort of sneering consciousness ; \" _I_ have nothing to say that can entertain Miss Woodhouse , or any other young lady .                          0.317084\n",
      "\" Yes ,\" said Harriet earnestly , \" and well she might , nobody could ever have a better .                                                                                                                   0.312591\n",
      "\" Yes ,\" said his brother quickly , \" it is Randalls that does it all .\"                                                                                                                                     0.309721\n",
      "\" Yes , I have no doubt of her being extremely attached to him .\"                                                                                                                                            0.297520\n",
      "Name: 4, dtype: float64\n"
     ]
    }
   ],
   "source": [
    "# test\n",
    "#Our SVD data reducer.  We are going to reduce the feature space from 1379 to 500.\n",
    "svd= TruncatedSVD(500)\n",
    "lsa = make_pipeline(svd, Normalizer(copy=False))\n",
    "# Run SVD on the training data, then project the test data.\n",
    "X_test_lsa = lsa.fit_transform(X_test_tfidf)\n",
    "\n",
    "variance_explained=svd.explained_variance_ratio_\n",
    "total_variance = variance_explained.sum()\n",
    "print(\"Percent variance captured by all components:\",total_variance*100)\n",
    "\n",
    "#Looking at what sorts of paragraphs our solution considers similar, for the first five identified topics\n",
    "paras_by_component=pd.DataFrame(X_test_lsa,index=X_test)\n",
    "for i in range(5):\n",
    "    print('Component {}:'.format(i))\n",
    "    print(paras_by_component.loc[:,i].sort_values(ascending=False)[0:20])"
   ]
  },
  {
   "cell_type": "code",
   "execution_count": 20,
   "metadata": {},
   "outputs": [
    {
     "data": {
      "image/png": "[encoded data removed]",
      "text/plain": [
       "<Figure size 432x288 with 2 Axes>"
      ]
     },
     "metadata": {},
     "output_type": "display_data"
    },
    {
     "name": "stdout",
     "output_type": "stream",
     "text": [
      "Key:\n",
      "0 Mr . Woodhouse had so completely made up his mind to the visit , that in spite of the increasing coldness , he seemed to have no idea of shrinking from it , and set forward at last most punctually with his eldest daughter in his own carriage , with less apparent consciousness of the weather than either of the others ; too full of the wonder of his own going , and the pleasure it was to afford at Randalls to see that it was cold , and too well wrapt up to feel it .\n",
      "1 \" Oh !\n",
      "2 \" Oh no , no !\n",
      "3 Such was Jane Fairfax ' s history .\n",
      "4 \" That has been a good deal the case , my dear ; but not to the degree you mention .\n",
      "5 \" And I am quite serious too , I assure you ,\" replied Mrs . Elton gaily , \" in resolving to be always on the watch , and employing my friends to watch also , that nothing really unexceptionable may pass us .\"\n",
      "6 \" And here is Mrs . Weston and Mr . Frank Churchill too ! Quite delightful ; so many friends !\"\n",
      "7 \" You may well class the delight , the honour , and the comfort of such a situation together ,\" said Jane , \" they are pretty sure to be equal ; however , I am very serious in not wishing any thing to be attempted at present for me .\n",
      "8 Harriet , Mr . Elton , and Mr . Knightley , their own especial set , were the only persons invited to meet them ; the hours were to be early , as well as the numbers few ; Mr . Woodhouse ' s habits and inclination being consulted in every thing .\n",
      "9 \" Oh !\n",
      "10 \" Where is the young man ?\"\n",
      "11 But that would not do .\n",
      "12 \" Well ,\" said Emma , \" I suppose we shall gradually grow reconciled to the idea , and I wish them very happy .\n",
      "13 \" How d ' ye do ? how d ' ye do ? We have been sitting with your father  glad to see him so well .\n",
      "14 \" Well  if you advise it . But ( with a smile ) if Colonel Campbell should have employed a careless friend , and if it should prove to have an indifferent tone  what shall I say ?\n",
      "15 \" Perhaps you think I am come on purpose to quarrel with you , knowing Weston to be out , and that you must still fight your own battle .\"\n",
      "16 Kitty , a fair but frozen maid , Kindled a flame I yet deplore , The hood - wink ' d boy I called to aid , Though of his near approach afraid , So fatal to my suit before .\n",
      "17 The gipsies did not wait for the operations of justice ; they took themselves off in a hurry .\n",
      "18 He wanted her to look up and smile ; and having now brought herself not to smile too broadly  she did  cheerfully answering ,\n",
      "19 Mr . Frank Churchill did not come .\n"
     ]
    }
   ],
   "source": [
    "# Compute document similarity using LSA components\n",
    "similarity = np.asarray(np.asmatrix(X_test_lsa) * np.asmatrix(X_test_lsa).T)\n",
    "#Only taking the first 20 sentences\n",
    "sim_matrix=pd.DataFrame(similarity,index=X_test).iloc[0:20,0:20]\n",
    "#Making a plot\n",
    "ax = sns.heatmap(sim_matrix,yticklabels=range(20))\n",
    "plt.show()\n",
    "\n",
    "#Generating a key for the plot.\n",
    "print('Key:')\n",
    "for i in range(20):\n",
    "    print(i,sim_matrix.index[i])"
   ]
  },
  {
   "cell_type": "markdown",
   "metadata": {
    "run_control": {
     "frozen": false,
     "read_only": false
    }
   },
   "source": [
    "LSA is one of many unsupervised methods that can be applied to text data.  There will be opportunities later to dive more deeply into this topic and encounter other methods.\n",
    "\n",
    "Although we have presented LSA as an unsupervised method, it can also be used to prepare text data for classification in supervised learning.  In that case, the goal would be to use LSA to arrive at a smaller set of features that can be used to build a supervised model that will classify text into pre-labelled categories.\n",
    "\n",
    "LSA isn't perfect- while it is good for dealing with synonyms, it cannot handle polysemy.  For that, we will need to try out a neural network approach.\n",
    "\n",
    "This assignment has a lot of moving parts- text processing, tf-idf, using single value decomposition on text, and finally interpreting the results of the LSA.  Make sure to spend enough time playing with the code to feel comfortable with all of these aspects before moving on."
   ]
  }
 ],
 "metadata": {
  "hide_input": false,
  "kernelspec": {
   "display_name": "Python 3",
   "language": "python",
   "name": "python3"
  },
  "language_info": {
   "codemirror_mode": {
    "name": "ipython",
    "version": 3
   },
   "file_extension": ".py",
   "mimetype": "text/x-python",
   "name": "python",
   "nbconvert_exporter": "python",
   "pygments_lexer": "ipython3",
   "version": "3.6.5"
  },
  "toc": {
   "colors": {
    "hover_highlight": "#DAA520",
    "running_highlight": "#FF0000",
    "selected_highlight": "#FFD700"
   },
   "moveMenuLeft": true,
   "nav_menu": {
    "height": "142px",
    "width": "252px"
   },
   "navigate_menu": true,
   "number_sections": true,
   "sideBar": true,
   "threshold": 4,
   "toc_cell": false,
   "toc_section_display": "block",
   "toc_window_display": false
  }
 },
 "nbformat": 4,
 "nbformat_minor": 2
}
