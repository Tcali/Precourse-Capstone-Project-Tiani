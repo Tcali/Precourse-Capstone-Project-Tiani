{
 "cells": [
  {
   "cell_type": "code",
   "execution_count": 1,
   "metadata": {},
   "outputs": [],
   "source": [
    "import numpy as np\n",
    "\n",
    "def read_glove_file(file):\n",
    "    print(\"Reading the glove file . . . this can take a bit\")\n",
    "    cbow_dict = {} #skip information on first line\n",
    "    fin= open(file, encoding=\"utf8\")    \n",
    "    for line in fin:\n",
    "        items = line.replace('\\r','').replace('\\n','').split(' ')\n",
    "        if len(items) < 10: continue\n",
    "        word = str(items[0])\n",
    "        vect = np.array([float(i) for i in items[1:] if len(i) > 0])\n",
    "        cbow_dict[word] = vect\n",
    "    return cbow_dict"
   ]
  },
  {
   "cell_type": "code",
   "execution_count": 2,
   "metadata": {},
   "outputs": [
    {
     "name": "stdout",
     "output_type": "stream",
     "text": [
      "Reading the glove file . . . this can take a bit\n"
     ]
    }
   ],
   "source": [
    "cbow_dict = read_glove_file('glove.6B.50d.txt')"
   ]
  },
  {
   "cell_type": "code",
   "execution_count": 3,
   "metadata": {},
   "outputs": [
    {
     "name": "stdout",
     "output_type": "stream",
     "text": [
      "['the', ',', '.', 'of', 'to', 'and', 'in', 'a', '\"', \"'s\", 'for', '-', 'that', 'on', 'is', 'was', 'said', 'with', 'he', 'as', 'it', 'by', 'at', '(', ')', 'from', 'his', \"''\", '``', 'an', 'be', 'has', 'are', 'have', 'but', 'were', 'not', 'this', 'who', 'they', 'had', 'i', 'which', 'will', 'their', ':', 'or', 'its', 'one', 'after', 'new', 'been', 'also', 'we', 'would', 'two', 'more', \"'\", 'first', 'about', 'up', 'when', 'year', 'there', 'all', '--', 'out', 'she', 'other', 'people', \"n't\", 'her', 'percent', 'than', 'over', 'into', 'last', 'some', 'government', 'time', '$', 'you', 'years', 'if', 'no', 'world', 'can', 'three', 'do', ';', 'president', 'only', 'state', 'million', 'could', 'us', 'most', '_', 'against', 'u.s.']\n"
     ]
    }
   ],
   "source": [
    "vocab = list(cbow_dict.keys())\n",
    "print(vocab[0:100])"
   ]
  },
  {
   "cell_type": "code",
   "execution_count": 4,
   "metadata": {},
   "outputs": [
    {
     "name": "stdout",
     "output_type": "stream",
     "text": [
      "[ 0.50451   0.68607  -0.59517  -0.022801  0.60046  -0.13498  -0.08813\n",
      "  0.47377  -0.61798  -0.31012  -0.076666  1.493    -0.034189 -0.98173\n",
      "  0.68229   0.81722  -0.51874  -0.31503  -0.55809   0.66421   0.1961\n",
      " -0.13495  -0.11476  -0.30344   0.41177  -2.223    -1.0756   -1.0783\n",
      " -0.34354   0.33505   1.9927   -0.04234  -0.64319   0.71125   0.49159\n",
      "  0.16754   0.34344  -0.25663  -0.8523    0.1661    0.40102   1.1685\n",
      " -1.0137   -0.21585  -0.15155   0.78321  -0.91241  -1.6106   -0.64426\n",
      " -0.51042 ]\n",
      "[-0.094386  0.43007  -0.17224  -0.45529   1.6447    0.40335  -0.37263\n",
      "  0.25071  -0.10588   0.10778  -0.10848   0.15181  -0.65396   0.55054\n",
      "  0.59591  -0.46278   0.11847   0.64448  -0.70948   0.23947  -0.82905\n",
      "  1.272     0.033021  0.2935    0.3911   -2.8094   -0.70745   0.4106\n",
      "  0.3894   -0.2913    2.6124   -0.34576  -0.16832   0.25154   0.31216\n",
      "  0.31639   0.12539  -0.012646  0.22297  -0.56585  -0.086264  0.62549\n",
      " -0.0576    0.29375   0.66005  -0.53115  -0.48233  -0.97925   0.53135\n",
      " -0.11725 ]\n",
      "[ 0.37854    1.8233    -1.2648    -0.1043     0.35829    0.60029\n",
      " -0.17538    0.83767   -0.056798  -0.75795    0.22681    0.98587\n",
      "  0.60587   -0.31419    0.28877    0.56013   -0.77456    0.071421\n",
      " -0.5741     0.21342    0.57674    0.3868    -0.12574    0.28012\n",
      "  0.28135   -1.8053    -1.0421    -0.19255   -0.55375   -0.054526\n",
      "  1.5574     0.39296   -0.2475     0.34251    0.45365    0.16237\n",
      "  0.52464   -0.070272  -0.83744   -1.0326     0.45946    0.25302\n",
      " -0.17837   -0.73398   -0.20025    0.2347    -0.56095   -2.2839\n",
      "  0.0092753 -0.60284  ]\n"
     ]
    }
   ],
   "source": [
    "#Usage example: let's load a vector\n",
    "print(cbow_dict['king'])\n",
    "print(cbow_dict['man'])\n",
    "print(cbow_dict['queen'])"
   ]
  },
  {
   "cell_type": "code",
   "execution_count": 5,
   "metadata": {},
   "outputs": [],
   "source": [
    "# The MAGIC of word_2_vec\n",
    "king = cbow_dict['king']\n",
    "man = cbow_dict['man']\n",
    "woman = cbow_dict['woman']\n",
    "new_vector = king - man + woman\n",
    "\n",
    "D = np.zeros(len(vocab))\n",
    "\n",
    "for d in range(0, len(vocab)):\n",
    "    distance = np.sum((cbow_dict[vocab[d]] - new_vector)**2)\n",
    "    D[d] = distance\n",
    "    "
   ]
  },
  {
   "cell_type": "code",
   "execution_count": 6,
   "metadata": {},
   "outputs": [
    {
     "data": {
      "text/plain": [
       "array([29.14942099, 27.10428728, 26.1167605 , ..., 65.36870848,\n",
       "       67.16410272, 46.96085386])"
      ]
     },
     "execution_count": 6,
     "metadata": {},
     "output_type": "execute_result"
    }
   ],
   "source": [
    "D"
   ]
  },
  {
   "cell_type": "code",
   "execution_count": 7,
   "metadata": {},
   "outputs": [
    {
     "data": {
      "text/plain": [
       "array([ 691, 2060, 1781, 3218, 1131, 6649, 6752, 9074, 5591, 8042],\n",
       "      dtype=int32)"
      ]
     },
     "execution_count": 7,
     "metadata": {},
     "output_type": "execute_result"
    }
   ],
   "source": [
    "np.argsort(D)[0:10]"
   ]
  },
  {
   "cell_type": "code",
   "execution_count": 8,
   "metadata": {},
   "outputs": [
    {
     "name": "stdout",
     "output_type": "stream",
     "text": [
      "['king', 'queen', 'prince', 'elizabeth', 'daughter', 'widow', 'throne', 'monarch', 'cousin', 'eldest']\n"
     ]
    }
   ],
   "source": [
    "related_words = [vocab[i] for i in np.argsort(D)[0:10]]\n",
    "print(related_words)"
   ]
  },
  {
   "cell_type": "code",
   "execution_count": 9,
   "metadata": {},
   "outputs": [],
   "source": [
    "# Word exclusion tests\n",
    "\n",
    "word_list = ['bacon', 'egg', 'coffee', 'horse']\n",
    "vecs = np.array([cbow_dict[w] for w in word_list])"
   ]
  },
  {
   "cell_type": "code",
   "execution_count": 10,
   "metadata": {},
   "outputs": [],
   "source": [
    "from sklearn.metrics.pairwise import pairwise_distances\n",
    "D_mat = pairwise_distances(vecs)"
   ]
  },
  {
   "cell_type": "code",
   "execution_count": 11,
   "metadata": {},
   "outputs": [
    {
     "data": {
      "text/plain": [
       "array([[0.        , 4.88187252, 5.41078844, 6.53006327],\n",
       "       [4.88187252, 0.        , 5.49023294, 6.06867756],\n",
       "       [5.41078844, 5.49023294, 0.        , 5.89841102],\n",
       "       [6.53006327, 6.06867756, 5.89841102, 0.        ]])"
      ]
     },
     "execution_count": 11,
     "metadata": {},
     "output_type": "execute_result"
    }
   ],
   "source": [
    "D_mat\n"
   ]
  },
  {
   "cell_type": "code",
   "execution_count": 12,
   "metadata": {},
   "outputs": [
    {
     "data": {
      "text/plain": [
       "'horse'"
      ]
     },
     "execution_count": 12,
     "metadata": {},
     "output_type": "execute_result"
    }
   ],
   "source": [
    "word_list[np.argmax(np.mean(D_mat, axis=1))]"
   ]
  },
  {
   "cell_type": "code",
   "execution_count": null,
   "metadata": {},
   "outputs": [],
   "source": []
  },
  {
   "cell_type": "code",
   "execution_count": null,
   "metadata": {},
   "outputs": [],
   "source": []
  }
 ],
 "metadata": {
  "kernelspec": {
   "display_name": "Python 3",
   "language": "python",
   "name": "python3"
  },
  "language_info": {
   "codemirror_mode": {
    "name": "ipython",
    "version": 3
   },
   "file_extension": ".py",
   "mimetype": "text/x-python",
   "name": "python",
   "nbconvert_exporter": "python",
   "pygments_lexer": "ipython3",
   "version": "3.6.5"
  }
 },
 "nbformat": 4,
 "nbformat_minor": 2
}
