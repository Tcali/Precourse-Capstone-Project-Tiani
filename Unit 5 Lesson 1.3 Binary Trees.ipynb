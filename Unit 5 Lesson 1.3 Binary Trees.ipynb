{
 "cells": [
  {
   "cell_type": "markdown",
   "metadata": {},
   "source": [
    "DRILL:\n",
    "Implement a binary tree, which is filled with 15 pieces of random data. Your job is to then write a program to traverse the tree using a breadth first traversal. If you want additional practice, try other forms of traversal."
   ]
  },
  {
   "cell_type": "code",
   "execution_count": 8,
   "metadata": {},
   "outputs": [],
   "source": [
    "class Node:\n",
    "    def __init__(self, val):\n",
    "        self.left = None\n",
    "        self.right = None\n",
    "        self.val = val\n",
    "\n",
    "# Establish the initial root node and children\n",
    "root = Node('A')\n",
    "root.left = Node('B')\n",
    "root.right = Node('C')\n",
    "\n",
    "# Add the appropriate children for ‘B’ and ‘C’ and on\n",
    "root.left.left = Node('D')\n",
    "root.left.right = Node('E')\n",
    "root.right.left = Node('F')\n",
    "root.right.right = Node('G')\n",
    "root.left.left.left = Node('H')\n",
    "root.left.left.right = Node('I')\n",
    "root.left.right.left = Node('J')\n",
    "root.left.right.right = Node('K')\n",
    "root.left.left.left.left = Node('L')\n",
    "root.left.left.left.right = Node('M')\n",
    "root.left.left.right.left = Node('N')\n",
    "root.left.left.right.right = Node('O')"
   ]
  },
  {
   "cell_type": "markdown",
   "metadata": {},
   "source": [
    "The root element will be at Arr[0].  \n",
    "Arr[(i-1)/2] # Returns the parent node  \n",
    "Arr[(2*i)+1] # Returns the left child node  \n",
    "Arr[(2*i)+2] # Returns the right child node  "
   ]
  },
  {
   "cell_type": "markdown",
   "metadata": {},
   "source": [
    "### Function to print level order traversal of tree\n",
    "printLevelorder(tree)  \n",
    "for d = 1 to height(tree)  \n",
    "    printGivenLevel(tree, d)  \n",
    "\n",
    "### Function to print all nodes at a given level\n",
    "printGivenLevel(tree, level)  \n",
    "if tree is NULL then return  \n",
    "if level is 1, then  \n",
    "    print(tree->data)  \n",
    "else if level greater than 1, then  \n",
    "    printGivenLevel(tree->left, level-1)  \n",
    "    printGivenLevel(tree->right, level-1)  "
   ]
  },
  {
   "cell_type": "code",
   "execution_count": 50,
   "metadata": {},
   "outputs": [],
   "source": [
    "# Iterative Method to print the height of binary tree\n",
    "def printLevelOrder(root):\n",
    "    # Base Case\n",
    "    if root is None:\n",
    "        return\n",
    "    # Create an empty queue for level order traversal\n",
    "    queue = []\n",
    "\n",
    "    # Enqueue Root and initialize height\n",
    "    queue.append(root)\n",
    "\n",
    "    while(len(queue) > 0):\n",
    "        # Print front of queue and remove it from queue\n",
    "        print (queue[0].val),\n",
    "        node = queue.pop(0)\n",
    "      #Enqueue left child\n",
    "        if node.left is not None:\n",
    "            queue.append(node.left)\n",
    "          # Enqueue right child\n",
    "        if node.right is not None:\n",
    "            queue.append(node.right)"
   ]
  },
  {
   "cell_type": "code",
   "execution_count": 54,
   "metadata": {},
   "outputs": [
    {
     "name": "stdout",
     "output_type": "stream",
     "text": [
      "Level Order/Breadth Traversal of binary tree is -\n",
      "A\n",
      "B\n",
      "C\n",
      "D\n",
      "E\n",
      "F\n",
      "G\n",
      "H\n",
      "I\n",
      "J\n",
      "K\n",
      "L\n",
      "M\n",
      "N\n",
      "O\n"
     ]
    }
   ],
   "source": [
    "print(\"Level Order/Breadth Traversal of binary tree is -\")\n",
    "printLevelOrder(root)"
   ]
  },
  {
   "cell_type": "markdown",
   "metadata": {},
   "source": [
    "The above code is contributed by Nikhil Kumar Singh(nickzuck_007)"
   ]
  },
  {
   "cell_type": "code",
   "execution_count": null,
   "metadata": {},
   "outputs": [],
   "source": [
    "# Iterative Method to print the height of binary tree\n",
    "def printpreOrder(root):\n",
    "    # Base Case\n",
    "    node = root\n",
    "  \n",
    "    if root:\n",
    " \n",
    "        # First print the data of node\n",
    "        print(root.val),\n",
    " \n",
    "        # Then recur on left child\n",
    "        printPreorder(root.left)\n",
    " \n",
    "        # Finally recur on right child\n",
    "        printPreorder(root.right)"
   ]
  },
  {
   "cell_type": "code",
   "execution_count": null,
   "metadata": {},
   "outputs": [],
   "source": [
    "print(\"Depth Traversal of binary tree is -\")\n",
    "printinOrder(root)"
   ]
  },
  {
   "cell_type": "markdown",
   "metadata": {},
   "source": [
    "https://www.geeksforgeeks.org/tree-traversals-inorder-preorder-and-postorder/"
   ]
  }
 ],
 "metadata": {
  "kernelspec": {
   "display_name": "Python 3",
   "language": "python",
   "name": "python3"
  },
  "language_info": {
   "codemirror_mode": {
    "name": "ipython",
    "version": 3
   },
   "file_extension": ".py",
   "mimetype": "text/x-python",
   "name": "python",
   "nbconvert_exporter": "python",
   "pygments_lexer": "ipython3",
   "version": "3.6.5"
  }
 },
 "nbformat": 4,
 "nbformat_minor": 2
}
