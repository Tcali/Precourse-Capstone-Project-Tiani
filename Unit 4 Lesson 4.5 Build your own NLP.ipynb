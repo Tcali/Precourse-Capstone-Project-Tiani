{
 "cells": [
  {
   "cell_type": "code",
   "execution_count": 1,
   "metadata": {
    "run_control": {
     "frozen": false,
     "read_only": false
    }
   },
   "outputs": [],
   "source": [
    "%matplotlib inline\n",
    "import numpy as np\n",
    "import pandas as pd\n",
    "import scipy\n",
    "import sklearn\n",
    "import spacy\n",
    "import matplotlib.pyplot as plt\n",
    "import seaborn as sns\n",
    "import re\n",
    "from nltk.corpus import gutenberg, stopwords\n",
    "from collections import Counter"
   ]
  },
  {
   "cell_type": "markdown",
   "metadata": {
    "run_control": {
     "frozen": false,
     "read_only": false
    }
   },
   "source": [
    "Supervised NLP requires a pre-labelled dataset for training and testing, and is generally interested in categorizing text in various ways. In this case, we are going to try to predict whether a sentence comes from _Alice in Wonderland_ by Lewis Carroll or _Persuasion_ by Jane Austen. We can use any of the supervised models we've covered previously, as long as they allow categorical outcomes. In this case, we'll try Random Forests, SVM, and KNN.\n",
    "\n",
    "Our feature-generation approach will be something called _BoW_, or _Bag of Words_. BoW is quite simple: For each sentence, we count how many times each word appears. We will then use those counts as features.  "
   ]
  },
  {
   "cell_type": "code",
   "execution_count": 11,
   "metadata": {
    "run_control": {
     "frozen": false,
     "read_only": false
    },
    "scrolled": true
   },
   "outputs": [],
   "source": [
    "# Utility function for standard text cleaning.\n",
    "def text_cleaner(text):\n",
    "    # Visual inspection identifies a form of punctuation spaCy does not\n",
    "    # recognize: the double dash '--'.  Better get rid of it now!\n",
    "    text = re.sub(r'--',' ',text)\n",
    "    text = re.sub(\"[\\[].*?[\\]]\", \"\", text)\n",
    "    text = ' '.join(text.split())\n",
    "    return text\n",
    "    \n",
    "# Load and clean the data.\n",
    "bible = gutenberg.raw('bible-kjv.txt')\n",
    "hamlet = gutenberg.raw('shakespeare-hamlet.txt')\n",
    "bb = gutenberg.raw('burgess-busterbrown.txt')\n",
    "\n",
    "# The Chapter indicator is idiosyncratic\n",
    "bible = re.sub(r'Chapter \\d+', '', bible)\n",
    "hamlet = re.sub(r'Chapter \\d+', '', hamlet)\n",
    "bb = re.sub(r'Chapter \\d+', '', bb)\n",
    "    \n",
    "hamlet = text_cleaner(hamlet)\n",
    "bible = text_cleaner(bible)\n",
    "bb = text_cleaner(bb)"
   ]
  },
  {
   "cell_type": "code",
   "execution_count": 13,
   "metadata": {},
   "outputs": [
    {
     "name": "stdout",
     "output_type": "stream",
     "text": [
      "(3384, 5140)\n"
     ]
    }
   ],
   "source": [
    "# spacy is bad for you do this the right way\n",
    "# We need to do the following:\n",
    "# 1) Compute lemmatization for each text & get all the unique lemmas\n",
    "# 2) Get the set of common terms across all texts\n",
    "# 3) Do count vectorization to remove stop words and get a bag-of-words matrix\n",
    "\n",
    "import nltk\n",
    "from nltk.stem import WordNetLemmatizer\n",
    "from sklearn.feature_extraction.text import CountVectorizer\n",
    "import string\n",
    "import re\n",
    "\n",
    "def lemmatize(text):\n",
    "    \n",
    "    # Break up text into sentences and then split each sentence into a list of words\n",
    "    sentenceEnders = re.compile('[.!?]')\n",
    "    sentenceList = sentenceEnders.split(text)\n",
    "    word_list = [s.split(' ') for s in sentenceList]\n",
    "\n",
    "    # Do lemmatization, lower-case conversion, number/punctuation stripping in one shot\n",
    "    translator_punct = str.maketrans('', '', string.punctuation)\n",
    "    translator_numbers = str.maketrans('', '', '0123456789')\n",
    "    wordnet_lemmatizer = WordNetLemmatizer()\n",
    "    lemmatizer_split = [[wordnet_lemmatizer.lemmatize(w.lower().translate(translator_punct).translate(translator_numbers)) \n",
    "                        for w in s] for s in word_list]\n",
    "    \n",
    "    # Now we compute the set of unique words in the text\n",
    "    # To do this, we recombine all the lemmas together and then convert to a set to get unique\n",
    "    sentence_recombined = [\" \".join(s) for s in lemmatizer_split]\n",
    "    text_recombined = \" \".join(sentence_recombined)\n",
    "    unique_word_list = list(set(text_recombined.split(\" \")))\n",
    "    unique_word_list = [u for u in unique_word_list if len(u)>0]\n",
    "    return sentence_recombined, unique_word_list\n",
    "\n",
    "# Run alice and persuasion through the lemmatizer\n",
    "bb_lemmas, bb_words = lemmatize(bb)\n",
    "hamlet_lemmas, hamlet_words = lemmatize(hamlet)\n",
    "all_sentences = bb_lemmas + hamlet_lemmas\n",
    "\n",
    "# Now do count vectorization with stop word removal\n",
    "cv = CountVectorizer(stop_words='english')  # Will automatically compute unique vocab\n",
    "X = cv.fit_transform(all_sentences).toarray()\n",
    "y = ['Burgess'] * len(bb_lemmas) + ['Shakespeare'] * len(hamlet_lemmas)\n",
    "print(X.shape) # Number of sentences by number of vocab terms\n",
    "vocab_dict = cv.vocabulary_ # Gets you a mapping of term to column index\n",
    "\n",
    "# Let's weave into a final dataframe\n",
    "X_df = pd.DataFrame(X)\n",
    "X_df['author'] = y\n",
    "# Can set the columns to the elements of vocab_dict in the correct order if you want"
   ]
  },
  {
   "cell_type": "markdown",
   "metadata": {
    "run_control": {
     "frozen": false,
     "read_only": false
    }
   },
   "source": [
    "Time to bag some words!  Since spaCy has already tokenized and labelled our data, we can move directly to recording how often various words occur.  We will exclude stopwords and punctuation.  In addition, in an attempt to keep our feature space from exploding, we will work with lemmas (root words) rather than the raw text terms, and we'll only use the 2000 most common words for each text."
   ]
  },
  {
   "cell_type": "markdown",
   "metadata": {
    "run_control": {
     "frozen": false,
     "read_only": false
    }
   },
   "source": [
    "## Trying out BoW\n",
    "\n",
    "Now let's give the bag of words features a whirl by trying a random forest."
   ]
  },
  {
   "cell_type": "code",
   "execution_count": 15,
   "metadata": {
    "run_control": {
     "frozen": false,
     "read_only": false
    },
    "scrolled": false
   },
   "outputs": [
    {
     "name": "stdout",
     "output_type": "stream",
     "text": [
      "Training set score: 0.9892870336165497\n",
      "\n",
      "Test set score: 0.9202363367799113\n"
     ]
    }
   ],
   "source": [
    "from sklearn import ensemble\n",
    "from sklearn.model_selection import train_test_split\n",
    "\n",
    "rfc = ensemble.RandomForestClassifier()\n",
    "# y = X_df['author']\n",
    "X = np.array(X_df.drop(['author'], 1))\n",
    "\n",
    "X_train, X_test, y_train, y_test = train_test_split(X, \n",
    "                                                    y,\n",
    "                                                    test_size=0.2,\n",
    "                                                    random_state=0)\n",
    "train = rfc.fit(X_train, y_train)\n",
    "\n",
    "print('Training set score:', rfc.score(X_train, y_train))\n",
    "print('\\nTest set score:', rfc.score(X_test, y_test))"
   ]
  },
  {
   "cell_type": "markdown",
   "metadata": {
    "run_control": {
     "frozen": false,
     "read_only": false
    }
   },
   "source": [
    "## BoW with Logistic Regression\n",
    "\n",
    "Let's try a technique with some protection against overfitting due to extraneous features – logistic regression with ridge regularization (from ridge regression, also called L2 regularization)."
   ]
  },
  {
   "cell_type": "code",
   "execution_count": 17,
   "metadata": {
    "run_control": {
     "frozen": false,
     "read_only": false
    }
   },
   "outputs": [
    {
     "name": "stdout",
     "output_type": "stream",
     "text": [
      "Training set score: 0.9737717029922424\n",
      "\n",
      "Test set score: 0.9261447562776958\n"
     ]
    }
   ],
   "source": [
    "from sklearn.linear_model import LogisticRegression\n",
    "\n",
    "lr = LogisticRegression()\n",
    "train = lr.fit(X_train, y_train)\n",
    "# print(X_train.shape, y_train.shape)\n",
    "print('Training set score:', lr.score(X_train, y_train))\n",
    "print('\\nTest set score:', lr.score(X_test, y_test))"
   ]
  },
  {
   "cell_type": "markdown",
   "metadata": {
    "run_control": {
     "frozen": false,
     "read_only": false
    }
   },
   "source": [
    "Logistic regression performs a bit better than the random forest.  \n",
    "\n",
    "# BoW with Gradient Boosting\n",
    "\n",
    "And finally, let's see what gradient boosting can do:"
   ]
  },
  {
   "cell_type": "code",
   "execution_count": 18,
   "metadata": {
    "run_control": {
     "frozen": false,
     "read_only": false
    }
   },
   "outputs": [
    {
     "name": "stdout",
     "output_type": "stream",
     "text": [
      "Training set score: 0.9009974141115626\n",
      "\n",
      "Test set score: 0.8670605612998523\n"
     ]
    }
   ],
   "source": [
    "clf = ensemble.GradientBoostingClassifier()\n",
    "train = clf.fit(X_train, y_train)\n",
    "\n",
    "print('Training set score:', clf.score(X_train, y_train))\n",
    "print('\\nTest set score:', clf.score(X_test, y_test))"
   ]
  },
  {
   "cell_type": "markdown",
   "metadata": {
    "run_control": {
     "frozen": false,
     "read_only": false
    }
   },
   "source": [
    "Looks like logistic regression is the winner, but there's room for improvement."
   ]
  },
  {
   "cell_type": "code",
   "execution_count": 34,
   "metadata": {},
   "outputs": [
    {
     "data": {
      "text/plain": [
       "array([0.95427729, 0.92466765, 0.93057607, 0.91715976, 0.92159763])"
      ]
     },
     "execution_count": 34,
     "metadata": {},
     "output_type": "execute_result"
    }
   ],
   "source": [
    "# Perform cross validation\n",
    "from sklearn.model_selection import cross_val_score\n",
    "cross_val_score(lr, X, y, cv=5)"
   ]
  },
  {
   "cell_type": "markdown",
   "metadata": {},
   "source": [
    "# tf-idf"
   ]
  },
  {
   "cell_type": "code",
   "execution_count": 29,
   "metadata": {},
   "outputs": [
    {
     "name": "stdout",
     "output_type": "stream",
     "text": [
      "['[ The Tragedie of Hamlet by William Shakespeare 1599 ]', 'Actus Primus .', 'Enter Barnardo and Francisco two Centinels .', 'Barnardo .']\n"
     ]
    }
   ],
   "source": [
    "import re\n",
    "\n",
    "# reading in the data, this time in the form of paragraphs\n",
    "hamlet = gutenberg.paras('shakespeare-hamlet.txt')\n",
    "# processing\n",
    "hamlet_paras = []\n",
    "for paragraph in hamlet:\n",
    "    para = paragraph[0]\n",
    "    # removing the double-dash from all words\n",
    "    para = [re.sub(r'--', '', word) for word in para]\n",
    "    # Forming each paragraph into a string and adding it to the list of strings.\n",
    "    hamlet_paras.append(' '.join(para))\n",
    "\n",
    "print(hamlet_paras[0:4])"
   ]
  },
  {
   "cell_type": "code",
   "execution_count": 30,
   "metadata": {},
   "outputs": [
    {
     "name": "stdout",
     "output_type": "stream",
     "text": [
      "Number of features: 40\n",
      "Original sentence: Mar .\n",
      "Tf_idf vector: {'mar': 1.0}\n"
     ]
    }
   ],
   "source": [
    "from sklearn.feature_extraction.text import TfidfVectorizer\n",
    "from sklearn.model_selection import train_test_split\n",
    "\n",
    "X_train, X_test = train_test_split(hamlet_paras, test_size=0.3, random_state=0)\n",
    "\n",
    "vectorizer = TfidfVectorizer(max_df=0.5, # drop words that occur in more than 50% of  the paragraphs\n",
    "                             min_df=3, # only use words that appear at least 3x\n",
    "                             stop_words='english', \n",
    "                             lowercase=True, #convert everything to lower case (since Alice in Wonderland has the HABIT of CAPITALIZING WORDS for EMPHASIS)\n",
    "                             use_idf=True,#we definitely want to use inverse document frequencies in our weighting\n",
    "                             norm=u'l2', #Applies a correction factor so that longer paragraphs and shorter paragraphs get treated equally\n",
    "                             smooth_idf=True #Adds 1 to all document frequencies, as if an extra document existed that used every word once.  Prevents divide-by-zero errors\n",
    "                            )\n",
    "\n",
    "\n",
    "#Applying the vectorizer\n",
    "hamlet_paras_tfidf=vectorizer.fit_transform(hamlet_paras)\n",
    "print(\"Number of features: %d\" % hamlet_paras_tfidf.get_shape()[1])\n",
    "\n",
    "#splitting into training and test sets\n",
    "X_train_tfidf, X_test_tfidf= train_test_split(hamlet_paras_tfidf, test_size=0.3, random_state=0)\n",
    "\n",
    "\n",
    "#Reshapes the vectorizer output into something people can read\n",
    "X_train_tfidf_csr = X_train_tfidf.tocsr()\n",
    "\n",
    "#number of paragraphs\n",
    "n = X_train_tfidf_csr.shape[0]\n",
    "#A list of dictionaries, one per paragraph\n",
    "tfidf_bypara = [{} for _ in range(0,n)]\n",
    "#List of features\n",
    "terms = vectorizer.get_feature_names()\n",
    "#for each paragraph, lists the feature words and their tf-idf scores\n",
    "for i, j in zip(*X_train_tfidf_csr.nonzero()):\n",
    "    tfidf_bypara[i][terms[j]] = X_train_tfidf_csr[i, j]\n",
    "\n",
    "#Keep in mind that the log base 2 of 1 is 0, so a tf-idf score of 0 indicates that the word was present once in that sentence.\n",
    "print('Original sentence:', X_train[5])\n",
    "print('Tf_idf vector:', tfidf_bypara[5])"
   ]
  },
  {
   "cell_type": "code",
   "execution_count": 31,
   "metadata": {},
   "outputs": [
    {
     "name": "stdout",
     "output_type": "stream",
     "text": [
      "Percent variance captured by all components: 99.92201080577465\n",
      "Component 0:\n",
      "Ham .    1.0\n",
      "Ham .    1.0\n",
      "Ham .    1.0\n",
      "Ham .    1.0\n",
      "Ham .    1.0\n",
      "Ham .    1.0\n",
      "Ham .    1.0\n",
      "Ham .    1.0\n",
      "Ham .    1.0\n",
      "Ham .    1.0\n",
      "Name: 0, dtype: float64\n",
      "Component 1:\n",
      "King .    0.999651\n",
      "King .    0.999651\n",
      "King .    0.999651\n",
      "King .    0.999651\n",
      "King .    0.999651\n",
      "King .    0.999651\n",
      "King .    0.999651\n",
      "King .    0.999651\n",
      "King .    0.999651\n",
      "King .    0.999651\n",
      "Name: 1, dtype: float64\n",
      "Component 2:\n",
      "Hor .    1.0\n",
      "Hor .    1.0\n",
      "Hor .    1.0\n",
      "Hor .    1.0\n",
      "Hor .    1.0\n",
      "Hor .    1.0\n",
      "Hor .    1.0\n",
      "Hor .    1.0\n",
      "Hor .    1.0\n",
      "Hor .    1.0\n",
      "Name: 2, dtype: float64\n",
      "Component 3:\n",
      "Laer .    0.999848\n",
      "Laer .    0.999848\n",
      "Laer .    0.999848\n",
      "Laer .    0.999848\n",
      "Laer .    0.999848\n",
      "Laer .    0.999848\n",
      "Laer .    0.999848\n",
      "Laer .    0.999848\n",
      "Laer .    0.999848\n",
      "Laer .    0.999848\n",
      "Name: 3, dtype: float64\n",
      "Component 4:\n",
      "Qu .    1.0\n",
      "Qu .    1.0\n",
      "Qu .    1.0\n",
      "Qu .    1.0\n",
      "Qu .    1.0\n",
      "Qu .    1.0\n",
      "Qu .    1.0\n",
      "Qu .    1.0\n",
      "Qu .    1.0\n",
      "Qu .    1.0\n",
      "Name: 4, dtype: float64\n"
     ]
    }
   ],
   "source": [
    "from sklearn.decomposition import TruncatedSVD\n",
    "from sklearn.pipeline import make_pipeline\n",
    "from sklearn.preprocessing import Normalizer\n",
    "\n",
    "#Our SVD data reducer.  We are going to reduce the feature space from 40to 39.\n",
    "svd= TruncatedSVD(39)\n",
    "lsa = make_pipeline(svd, Normalizer(copy=False))\n",
    "# Run SVD on the training data, then project the training data.\n",
    "X_train_lsa = lsa.fit_transform(X_train_tfidf)\n",
    "\n",
    "variance_explained=svd.explained_variance_ratio_\n",
    "total_variance = variance_explained.sum()\n",
    "print(\"Percent variance captured by all components:\",total_variance*100)\n",
    "\n",
    "#Looking at what sorts of paragraphs our solution considers similar, for the first five identified topics\n",
    "paras_by_component=pd.DataFrame(X_train_lsa,index=X_train)\n",
    "for i in range(5):\n",
    "    print('Component {}:'.format(i))\n",
    "    print(paras_by_component.loc[:,i].sort_values(ascending=False)[0:10])"
   ]
  },
  {
   "cell_type": "code",
   "execution_count": 32,
   "metadata": {},
   "outputs": [
    {
     "data": {
      "image/png": "[encoded data removed]",
      "text/plain": [
       "<Figure size 432x288 with 2 Axes>"
      ]
     },
     "metadata": {},
     "output_type": "display_data"
    },
    {
     "name": "stdout",
     "output_type": "stream",
     "text": [
      "Key:\n",
      "0 Ham .\n",
      "1 Rosin .\n",
      "2 Qu .\n",
      "3 Ham .\n",
      "4 Manet Hamlet .\n",
      "5 Mar .\n",
      "6 Guild .\n",
      "7 Enter King , Queene , Rosincrane , and Guildensterne Cum alijs .\n",
      "8 Other .\n",
      "9 Qu .\n"
     ]
    }
   ],
   "source": [
    "# Compute document similarity using LSA components\n",
    "similarity = np.asarray(np.asmatrix(X_train_lsa) * np.asmatrix(X_train_lsa).T)\n",
    "#Only taking the first 10 sentences\n",
    "sim_matrix=pd.DataFrame(similarity,index=X_train).iloc[0:10,0:10]\n",
    "#Making a plot\n",
    "ax = sns.heatmap(sim_matrix,yticklabels=range(10))\n",
    "plt.show()\n",
    "\n",
    "#Generating a key for the plot.\n",
    "print('Key:')\n",
    "for i in range(10):\n",
    "    print(i,sim_matrix.index[i])\n"
   ]
  }
 ],
 "metadata": {
  "hide_input": false,
  "kernelspec": {
   "display_name": "Python 3",
   "language": "python",
   "name": "python3"
  },
  "language_info": {
   "codemirror_mode": {
    "name": "ipython",
    "version": 3
   },
   "file_extension": ".py",
   "mimetype": "text/x-python",
   "name": "python",
   "nbconvert_exporter": "python",
   "pygments_lexer": "ipython3",
   "version": "3.6.5"
  },
  "toc": {
   "colors": {
    "hover_highlight": "#DAA520",
    "running_highlight": "#FF0000",
    "selected_highlight": "#FFD700"
   },
   "moveMenuLeft": true,
   "nav_menu": {
    "height": "49px",
    "width": "252px"
   },
   "navigate_menu": true,
   "number_sections": true,
   "sideBar": true,
   "threshold": 4,
   "toc_cell": false,
   "toc_section_display": "block",
   "toc_window_display": false
  }
 },
 "nbformat": 4,
 "nbformat_minor": 2
}
